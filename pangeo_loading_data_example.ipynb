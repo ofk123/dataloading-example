{
 "cells": [
  {
   "cell_type": "code",
   "execution_count": 4,
   "metadata": {},
   "outputs": [],
   "source": [
    "import xarray as xr\n",
    "import numpy as np\n",
    "from numpy import pi, sin, cos, arccos, clip, deg2rad\n",
    "import numpy.ma as ma\n",
    "from datetime import datetime\n",
    "import dask\n",
    "import time\n",
    "\n",
    "\n",
    "@dask.delayed\n",
    "def load_and_compute(dsmapper, lat1, lon1, window_size, plevel):\n",
    "    \n",
    "    \"\"\"\n",
    "    Load dataset, reduce it to data inside window and do computation\n",
    "    \"\"\"\n",
    "\n",
    "    dynht_ds = xr.open_zarr(dsmapper, consolidated=True, chunks=None)\n",
    "    distance = xr.apply_ufunc(great_circle_distance, lat1, lon1, dynht_ds.LAT.load(), dynht_ds.LON.load())\n",
    "    ds_radius = dynht_ds.where(distance < window_size, drop=True)\n",
    "    data = ds_radius.DH[plevel,:].load().values\n",
    "    ii = ~xr.apply_ufunc(np.isnan, data)\n",
    "    \n",
    "    # Converting from Matlab datenumber into days since 1970-01-01\n",
    "    dt_1970_01_01 = datetime.toordinal(datetime(1970,1,1,0,0,0,0)) + 366.0  # https://stackoverflow.com/questions/32991934/equivalent-function-of-datenumdatestring-of-matlab-in-python\n",
    "    time = ds_radius.DATENUM.load().values[ii] - dt_1970_01_01\n",
    "    data, lat, lon = data[ii], ds_radius.LAT.values[ii], ds_radius.LON.values[ii]\n",
    "\n",
    "    # Computation that uses data, lat, lon, time,\n",
    "    # ...\n",
    "    # ...\n",
    "    # and returns the results.\n",
    "    \n",
    "    return data+lat+lon+time\n",
    "\n",
    "\n",
    "@dask.delayed\n",
    "def load_only(dsmapper, plevel):\n",
    "    \n",
    "    \"\"\"\n",
    "    Load data and the coordinates only, without calling distance-function. Just for reference.\n",
    "    \"\"\"\n",
    "\n",
    "    dynht_ds = xr.open_zarr(dsmapper, consolidated=True, chunks=None)\n",
    "    data = dynht_ds.DH.sel(level=plevel).load().values\n",
    "    ii = ~xr.apply_ufunc(np.isnan, data)\n",
    "    \n",
    "    # Converting from Matlab datenumber to days since 1970-01-01\n",
    "    dt_1970_01_01 = datetime.toordinal(datetime(1970,1,1,0,0,0,0)) + 366.0  # https://stackoverflow.com/questions/32991934/equivalent-function-of-datenumdatestring-of-matlab-in-python\n",
    "    time = dynht_ds.DATENUM.load().values[ii] - dt_1970_01_01\n",
    "    data, lat, lon = data[ii], dynht_ds.LAT.values[ii], dynht_ds.LON.values[ii]\n",
    "    \n",
    "    return data+lat+lon+time\n",
    "\n",
    "\n",
    "def load_data_in_window_and_compute( plevel, window_size ):\n",
    "    \n",
    "    dspath='.../global_dynamic_height.zarr'\n",
    "    dsmapper = gcs.get_mapper(dspath)\n",
    "    \n",
    "    maskmapper = gcs.get_mapper('.../global_1x1_parametermask.zarr')\n",
    "    maskdata = xr.open_dataset(maskmapper, engine=\"zarr\", consolidated=True)\n",
    "    mask = maskdata.mask.values\n",
    "    long = maskdata.longitude.values\n",
    "    latg = maskdata.latitude.values\n",
    "    lonB,latB = np.meshgrid(long,latg)\n",
    "    lonB,latB = ma.MaskedArray(lonB, 1-mask),ma.MaskedArray(latB, 1-mask)\n",
    "\n",
    "    list_of_delayed_objects = []\n",
    "    for latmasked, lonmasked in zip(latB.compressed()[:1], lonB.compressed()[:1]):\n",
    "        returned = load_and_compute(dsmapper, latmasked, lonmasked, window_size, plevel)\n",
    "        list_of_delayed_objects.append( returned )\n",
    "        \n",
    "    return list_of_delayed_objects\n",
    "\n",
    "\n",
    "def loads_data_only(plevel):\n",
    "    \n",
    "    dspath='...global_dynamic_height.zarr'\n",
    "    dsmapper = gcs.get_mapper(dspath)\n",
    "    \n",
    "    maskmapper = gcs.get_mapper('.../global_1x1_parametermask.zarr')\n",
    "    maskdata = xr.open_dataset(maskmapper, engine=\"zarr\", consolidated=True)\n",
    "    mask = maskdata.mask.values\n",
    "    long = maskdata.longitude.values\n",
    "    latg = maskdata.latitude.values\n",
    "    lonB,latB = np.meshgrid(long,latg)\n",
    "    lonB,latB = ma.MaskedArray(lonB, 1-mask),ma.MaskedArray(latB, 1-mask)\n",
    "\n",
    "    list_of_delayed_objects = []\n",
    "    for latmasked, lonmasked in zip(latB.compressed()[:1], lonB.compressed()[:1]):\n",
    "        returned = load_only(dsmapper, plevel)\n",
    "        list_of_delayed_objects.append( returned )\n",
    "        \n",
    "    # Returning list of computations\n",
    "    return list_of_delayed_objects\n",
    "\n",
    "\n",
    "def great_circle_distance(lat1, lon1, lat2, lon2):\n",
    "        \n",
    "    # from https://earth-env-data-science.github.io/lectures/core_python/organization_and_packaging.html#modules\n",
    "\n",
    "    # approximate radius of Earth\n",
    "    R_earth = 6.371e6\n",
    "\n",
    "    # unpack and convert everything to radians\n",
    "\n",
    "    phi1, lambda1, phi2, lambda2 = deg2rad(lat1), deg2rad(lon1) , deg2rad(lat2), deg2rad(lon2)\n",
    "\n",
    "    # apply formula\n",
    "    # https://en.wikipedia.org/wiki/Great-circle_distance\n",
    "\n",
    "    return R_earth * arccos( clip( (sin(phi1) * sin(phi2) + cos(phi1) * cos(phi2) * cos(lambda2 - lambda1)), -1, 1 ) )\n",
    "\n"
   ]
  },
  {
   "cell_type": "markdown",
   "metadata": {},
   "source": [
    "### Connect to a dask-cluster and set cluster-options"
   ]
  },
  {
   "cell_type": "code",
   "execution_count": 2,
   "metadata": {},
   "outputs": [
    {
     "data": {
      "text/plain": [
       "[]"
      ]
     },
     "execution_count": 2,
     "metadata": {},
     "output_type": "execute_result"
    }
   ],
   "source": [
    "import json\n",
    "import gcsfs\n",
    "import pangeo_token\n",
    "\n",
    "with open(pangeo_token.token) as f:\n",
    "    token = json.load(f)\n",
    "gcs = gcsfs.GCSFileSystem(token=token)\n",
    "\n",
    "from dask_gateway import GatewayCluster, Gateway\n",
    "from distributed import Client\n",
    "\n",
    "g = Gateway()\n",
    "g.list_clusters()"
   ]
  },
  {
   "cell_type": "code",
   "execution_count": null,
   "metadata": {},
   "outputs": [],
   "source": [
    "# cluster = g.connect(g.list_clusters()[0].name)"
   ]
  },
  {
   "cell_type": "code",
   "execution_count": 3,
   "metadata": {},
   "outputs": [],
   "source": [
    "options = g.cluster_options()\n",
    "options.worker_cores = 2; options.worker_memory = 4\n",
    "# Create a cluster with those options\n",
    "cluster = g.new_cluster(options)"
   ]
  },
  {
   "cell_type": "code",
   "execution_count": 5,
   "metadata": {},
   "outputs": [
    {
     "data": {
      "text/plain": [
       "[ClusterReport<name=prod.f8047fb21c314d7392a5b76d94f5f32a, status=RUNNING>]"
      ]
     },
     "execution_count": 5,
     "metadata": {},
     "output_type": "execute_result"
    }
   ],
   "source": [
    "g.list_clusters()"
   ]
  },
  {
   "cell_type": "code",
   "execution_count": 6,
   "metadata": {},
   "outputs": [
    {
     "data": {
      "text/html": [
       "<div>\n",
       "    <div style=\"width: 24px; height: 24px; background-color: #e1e1e1; border: 3px solid #9D9D9D; border-radius: 5px; position: absolute;\"> </div>\n",
       "    <div style=\"margin-left: 48px;\">\n",
       "        <h3 style=\"margin-bottom: 0px;\">Client</h3>\n",
       "        <p style=\"color: #9D9D9D; margin-bottom: 0px;\">Client-641fb339-2179-11ee-82f2-b2746deed5c0</p>\n",
       "        <table style=\"width: 100%; text-align: left;\">\n",
       "\n",
       "        <tr>\n",
       "        \n",
       "            <td style=\"text-align: left;\"><strong>Connection method:</strong> Cluster object</td>\n",
       "            <td style=\"text-align: left;\"><strong>Cluster type:</strong> dask_gateway.GatewayCluster</td>\n",
       "        \n",
       "        </tr>\n",
       "\n",
       "        \n",
       "            <tr>\n",
       "                <td style=\"text-align: left;\">\n",
       "                    <strong>Dashboard: </strong> <a href=\"/services/dask-gateway/clusters/prod.f8047fb21c314d7392a5b76d94f5f32a/status\" target=\"_blank\">/services/dask-gateway/clusters/prod.f8047fb21c314d7392a5b76d94f5f32a/status</a>\n",
       "                </td>\n",
       "                <td style=\"text-align: left;\"></td>\n",
       "            </tr>\n",
       "        \n",
       "\n",
       "        </table>\n",
       "\n",
       "        \n",
       "            <button style=\"margin-bottom: 12px;\" data-commandlinker-command=\"dask:populate-and-launch-layout\" data-commandlinker-args='{\"url\": \"/services/dask-gateway/clusters/prod.f8047fb21c314d7392a5b76d94f5f32a/status\" }'>\n",
       "                Launch dashboard in JupyterLab\n",
       "            </button>\n",
       "        \n",
       "\n",
       "        \n",
       "            <details>\n",
       "            <summary style=\"margin-bottom: 20px;\"><h3 style=\"display: inline;\">Cluster Info</h3></summary>\n",
       "            <div style='background-color: #f2f2f2; display: inline-block; padding: 10px; border: 1px solid #999999;'>\n",
       "  <h3>GatewayCluster</h3>\n",
       "  <ul>\n",
       "    <li><b>Name: </b>prod.f8047fb21c314d7392a5b76d94f5f32a\n",
       "    <li><b>Dashboard: </b><a href='/services/dask-gateway/clusters/prod.f8047fb21c314d7392a5b76d94f5f32a/status' target='_blank'>/services/dask-gateway/clusters/prod.f8047fb21c314d7392a5b76d94f5f32a/status</a>\n",
       "  </ul>\n",
       "</div>\n",
       "\n",
       "            </details>\n",
       "        \n",
       "\n",
       "    </div>\n",
       "</div>"
      ],
      "text/plain": [
       "<Client: 'tls://10.8.101.7:8786' processes=0 threads=0, memory=0 B>"
      ]
     },
     "execution_count": 6,
     "metadata": {},
     "output_type": "execute_result"
    }
   ],
   "source": [
    "client = Client(cluster)\n",
    "client"
   ]
  },
  {
   "cell_type": "code",
   "execution_count": 7,
   "metadata": {},
   "outputs": [],
   "source": [
    "cluster.scale(1)"
   ]
  },
  {
   "cell_type": "markdown",
   "metadata": {
    "tags": []
   },
   "source": [
    "### Loading of zarr-files from cloud-storage"
   ]
  },
  {
   "cell_type": "markdown",
   "metadata": {},
   "source": [
    "Loading dataset only:"
   ]
  },
  {
   "cell_type": "code",
   "execution_count": 15,
   "metadata": {},
   "outputs": [
    {
     "name": "stdout",
     "output_type": "stream",
     "text": [
      "CPU times: user 40 ms, sys: 10 ms, total: 50 ms\n",
      "Wall time: 4.41 s\n"
     ]
    }
   ],
   "source": [
    "%%time \n",
    "list_of_global_data_lat_lon_time = dask.compute( loads_data_only(0) )[0]"
   ]
  },
  {
   "cell_type": "markdown",
   "metadata": {},
   "source": [
    "Loading dataset and reduce to data within window:"
   ]
  },
  {
   "cell_type": "code",
   "execution_count": 16,
   "metadata": {},
   "outputs": [],
   "source": [
    "window_size = 500e3"
   ]
  },
  {
   "cell_type": "code",
   "execution_count": 17,
   "metadata": {},
   "outputs": [
    {
     "name": "stdout",
     "output_type": "stream",
     "text": [
      "CPU times: user 29.3 ms, sys: 4.02 ms, total: 33.3 ms\n",
      "Wall time: 5.32 s\n"
     ]
    }
   ],
   "source": [
    "%%time \n",
    "list_of_data_lat_lon_time_in_window = dask.compute( load_data_in_window_and_compute(0,window_size) )[0]"
   ]
  },
  {
   "cell_type": "markdown",
   "metadata": {},
   "source": [
    "#### Scaling down and closing cluster"
   ]
  },
  {
   "cell_type": "code",
   "execution_count": 18,
   "metadata": {},
   "outputs": [],
   "source": [
    "cluster.scale(0)"
   ]
  },
  {
   "cell_type": "code",
   "execution_count": 19,
   "metadata": {},
   "outputs": [],
   "source": [
    "cluster.close()"
   ]
  },
  {
   "cell_type": "code",
   "execution_count": 20,
   "metadata": {},
   "outputs": [
    {
     "name": "stderr",
     "output_type": "stream",
     "text": [
      "2023-07-13 12:45:44,375 - distributed.client - ERROR - Failed to reconnect to scheduler after 30.00 seconds, closing client\n"
     ]
    }
   ],
   "source": [
    "cluster.shutdown()"
   ]
  },
  {
   "cell_type": "code",
   "execution_count": null,
   "metadata": {},
   "outputs": [],
   "source": []
  }
 ],
 "metadata": {
  "kernelspec": {
   "display_name": "Python 3 (ipykernel)",
   "language": "python",
   "name": "python3"
  },
  "language_info": {
   "codemirror_mode": {
    "name": "ipython",
    "version": 3
   },
   "file_extension": ".py",
   "mimetype": "text/x-python",
   "name": "python",
   "nbconvert_exporter": "python",
   "pygments_lexer": "ipython3",
   "version": "3.10.8"
  }
 },
 "nbformat": 4,
 "nbformat_minor": 4
}
