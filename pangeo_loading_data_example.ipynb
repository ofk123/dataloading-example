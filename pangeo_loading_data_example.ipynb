{
 "cells": [
  {
   "cell_type": "code",
   "execution_count": 24,
   "metadata": {},
   "outputs": [],
   "source": [
    "import xarray as xr\n",
    "import numpy as np\n",
    "from numpy import pi, sin, cos, arccos, clip, deg2rad\n",
    "import numpy.ma as ma\n",
    "from datetime import datetime\n",
    "import dask\n",
    "import time\n",
    "\n",
    "@dask.delayed\n",
    "def load(dsmapper, plevel):\n",
    "    \n",
    "    \"\"\"\n",
    "    Load data from zarr-store\n",
    "    \"\"\"\n",
    "\n",
    "    ds = xr.open_zarr(dsmapper, consolidated=True, chunks=None).sel(level=plevel)\n",
    "    data = ds.DH.load().values\n",
    "    ii = ~xr.apply_ufunc(np.isnan, data)\n",
    "    \n",
    "    time = ds.DATENUM.load().values[ii]\n",
    "    data, lat, lon = data[ii], ds.LAT.values[ii], ds.LON.values[ii]\n",
    "    \n",
    "    ### Calculation using data-, lat-, and lon- arrays\n",
    "    ###\n",
    "    ### Returns one array\n",
    "    \n",
    "    return data+lat+lon+time\n",
    "\n",
    "\n",
    "def delayed_computations(plevel):\n",
    "    \n",
    "    dspath='pangeo-argo-eke/data/DynamicHeightData/global_dynamic_height.zarr'\n",
    "    dsmapper = gcs.get_mapper(dspath)\n",
    "    \n",
    "    maskmapper = gcs.get_mapper('pangeo-argo-eke/data/MaskData/global_1x1_parametermask.zarr')\n",
    "    maskdata = xr.open_dataset(maskmapper, engine=\"zarr\", consolidated=True)\n",
    "    mask = maskdata.mask.values\n",
    "    long = maskdata.longitude.values\n",
    "    latg = maskdata.latitude.values\n",
    "    lonB,latB = np.meshgrid(long,latg)\n",
    "    lonB,latB = ma.MaskedArray(lonB, 1-mask),ma.MaskedArray(latB, 1-mask)\n",
    "\n",
    "    list_of_delayed_objects = []\n",
    "    for latmasked, lonmasked in zip(latB.compressed()[:1], lonB.compressed()[:1]):\n",
    "        delayed = load(dsmapper, plevel)\n",
    "        list_of_delayed_objects.append( delayed )\n",
    "        \n",
    "    # Returning list of computations\n",
    "    return list_of_delayed_objects"
   ]
  },
  {
   "cell_type": "markdown",
   "metadata": {},
   "source": [
    "### Connect to a dask-cluster and set cluster-options"
   ]
  },
  {
   "cell_type": "code",
   "execution_count": 16,
   "metadata": {},
   "outputs": [
    {
     "data": {
      "text/plain": [
       "[ClusterReport<name=prod.79858275509c4d049c64a929ce4fa6c6, status=RUNNING>]"
      ]
     },
     "execution_count": 16,
     "metadata": {},
     "output_type": "execute_result"
    }
   ],
   "source": [
    "import json\n",
    "import gcsfs\n",
    "\n",
    "with open('pangeo-181919-e7bc5bdaf4d5.json') as f:\n",
    "    token = json.load(f)\n",
    "gcs = gcsfs.GCSFileSystem(token=token)\n",
    "\n",
    "from dask_gateway import GatewayCluster, Gateway\n",
    "from distributed import Client\n",
    "\n",
    "g = Gateway()\n",
    "g.list_clusters()"
   ]
  },
  {
   "cell_type": "code",
   "execution_count": 10,
   "metadata": {},
   "outputs": [],
   "source": [
    "options = g.cluster_options()\n",
    "options.worker_cores = 2; options.worker_memory = 4\n",
    "# Create a cluster with those options\n",
    "cluster = g.new_cluster(options)"
   ]
  },
  {
   "cell_type": "code",
   "execution_count": 12,
   "metadata": {},
   "outputs": [
    {
     "data": {
      "text/plain": [
       "[ClusterReport<name=prod.79858275509c4d049c64a929ce4fa6c6, status=RUNNING>]"
      ]
     },
     "execution_count": 12,
     "metadata": {},
     "output_type": "execute_result"
    }
   ],
   "source": [
    "g.list_clusters()"
   ]
  },
  {
   "cell_type": "code",
   "execution_count": 13,
   "metadata": {},
   "outputs": [
    {
     "data": {
      "text/html": [
       "<div>\n",
       "    <div style=\"width: 24px; height: 24px; background-color: #e1e1e1; border: 3px solid #9D9D9D; border-radius: 5px; position: absolute;\"> </div>\n",
       "    <div style=\"margin-left: 48px;\">\n",
       "        <h3 style=\"margin-bottom: 0px;\">Client</h3>\n",
       "        <p style=\"color: #9D9D9D; margin-bottom: 0px;\">Client-2cb31bb8-2666-11ee-821d-56edea2db58b</p>\n",
       "        <table style=\"width: 100%; text-align: left;\">\n",
       "\n",
       "        <tr>\n",
       "        \n",
       "            <td style=\"text-align: left;\"><strong>Connection method:</strong> Cluster object</td>\n",
       "            <td style=\"text-align: left;\"><strong>Cluster type:</strong> dask_gateway.GatewayCluster</td>\n",
       "        \n",
       "        </tr>\n",
       "\n",
       "        \n",
       "            <tr>\n",
       "                <td style=\"text-align: left;\">\n",
       "                    <strong>Dashboard: </strong> <a href=\"/services/dask-gateway/clusters/prod.79858275509c4d049c64a929ce4fa6c6/status\" target=\"_blank\">/services/dask-gateway/clusters/prod.79858275509c4d049c64a929ce4fa6c6/status</a>\n",
       "                </td>\n",
       "                <td style=\"text-align: left;\"></td>\n",
       "            </tr>\n",
       "        \n",
       "\n",
       "        </table>\n",
       "\n",
       "        \n",
       "            <button style=\"margin-bottom: 12px;\" data-commandlinker-command=\"dask:populate-and-launch-layout\" data-commandlinker-args='{\"url\": \"/services/dask-gateway/clusters/prod.79858275509c4d049c64a929ce4fa6c6/status\" }'>\n",
       "                Launch dashboard in JupyterLab\n",
       "            </button>\n",
       "        \n",
       "\n",
       "        \n",
       "            <details>\n",
       "            <summary style=\"margin-bottom: 20px;\"><h3 style=\"display: inline;\">Cluster Info</h3></summary>\n",
       "            <div style='background-color: #f2f2f2; display: inline-block; padding: 10px; border: 1px solid #999999;'>\n",
       "  <h3>GatewayCluster</h3>\n",
       "  <ul>\n",
       "    <li><b>Name: </b>prod.79858275509c4d049c64a929ce4fa6c6\n",
       "    <li><b>Dashboard: </b><a href='/services/dask-gateway/clusters/prod.79858275509c4d049c64a929ce4fa6c6/status' target='_blank'>/services/dask-gateway/clusters/prod.79858275509c4d049c64a929ce4fa6c6/status</a>\n",
       "  </ul>\n",
       "</div>\n",
       "\n",
       "            </details>\n",
       "        \n",
       "\n",
       "    </div>\n",
       "</div>"
      ],
      "text/plain": [
       "<Client: 'tls://10.8.0.4:8786' processes=0 threads=0, memory=0 B>"
      ]
     },
     "execution_count": 13,
     "metadata": {},
     "output_type": "execute_result"
    }
   ],
   "source": [
    "client = Client(cluster)\n",
    "client"
   ]
  },
  {
   "cell_type": "code",
   "execution_count": 14,
   "metadata": {},
   "outputs": [],
   "source": [
    "cluster.scale(1)"
   ]
  },
  {
   "cell_type": "markdown",
   "metadata": {
    "tags": []
   },
   "source": [
    "### Loading of zarr-files from cloud-storage"
   ]
  },
  {
   "cell_type": "markdown",
   "metadata": {},
   "source": [
    "Loading dataset only:"
   ]
  },
  {
   "cell_type": "code",
   "execution_count": null,
   "metadata": {},
   "outputs": [],
   "source": [
    "plevel = 4"
   ]
  },
  {
   "cell_type": "code",
   "execution_count": 25,
   "metadata": {},
   "outputs": [
    {
     "name": "stdout",
     "output_type": "stream",
     "text": [
      "CPU times: user 47.8 ms, sys: 14.6 ms, total: 62.4 ms\n",
      "Wall time: 4.64 s\n"
     ]
    }
   ],
   "source": [
    "%%time \n",
    "list_of_results = dask.compute( delayed_computations(plevel) )[0]"
   ]
  },
  {
   "cell_type": "markdown",
   "metadata": {},
   "source": [
    "#### Scaling down and closing cluster"
   ]
  },
  {
   "cell_type": "code",
   "execution_count": null,
   "metadata": {},
   "outputs": [],
   "source": [
    "cluster.scale(0)"
   ]
  },
  {
   "cell_type": "code",
   "execution_count": null,
   "metadata": {},
   "outputs": [],
   "source": [
    "cluster.close()"
   ]
  },
  {
   "cell_type": "code",
   "execution_count": null,
   "metadata": {},
   "outputs": [],
   "source": [
    "cluster.shutdown()"
   ]
  },
  {
   "cell_type": "code",
   "execution_count": null,
   "metadata": {},
   "outputs": [],
   "source": []
  }
 ],
 "metadata": {
  "kernelspec": {
   "display_name": "Python 3 (ipykernel)",
   "language": "python",
   "name": "python3"
  },
  "language_info": {
   "codemirror_mode": {
    "name": "ipython",
    "version": 3
   },
   "file_extension": ".py",
   "mimetype": "text/x-python",
   "name": "python",
   "nbconvert_exporter": "python",
   "pygments_lexer": "ipython3",
   "version": "3.10.8"
  }
 },
 "nbformat": 4,
 "nbformat_minor": 4
}
