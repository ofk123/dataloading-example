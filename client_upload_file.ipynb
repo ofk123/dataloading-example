{
 "cells": [
  {
   "cell_type": "code",
   "execution_count": null,
   "id": "e4e2b01f-19dd-4653-86d2-498acec52748",
   "metadata": {},
   "outputs": [],
   "source": [
    "from dask_gateway import Gateway\n",
    "from distributed import Client\n",
    "g = Gateway();#print(g.list_clusters())\n",
    "options = g.cluster_options()\n",
    "options.worker_cores = 4; options.worker_memory = 8\n",
    "cluster = g.new_cluster(options)\n",
    "client = Client(cluster)\n",
    "client\n",
    "\n",
    "cluster.scale(2)\n",
    "client.wait_for_workers(2)\n",
    "from functions import *"
   ]
  },
  {
   "cell_type": "markdown",
   "id": "d9875ed9-f1d2-4a32-9b33-9f6021cefb4d",
   "metadata": {},
   "source": [
    "Since remote workers on a cluster are not able to locate the local hub, the following 2 cells will return <code>ModuleNotFoundError: No module named 'functions'</code>:"
   ]
  },
  {
   "cell_type": "code",
   "execution_count": null,
   "id": "1d0f169c-bfe7-4fc0-989a-4560d8430c19",
   "metadata": {},
   "outputs": [],
   "source": [
    "result = random_numbercrunching_in_parallel()"
   ]
  },
  {
   "cell_type": "code",
   "execution_count": null,
   "id": "ec3e3e19-c2d7-4c92-ac7c-43395c8e19bd",
   "metadata": {},
   "outputs": [],
   "source": [
    "animate_data(hours = 12) # Out of 744"
   ]
  },
  {
   "cell_type": "markdown",
   "id": "633a0fbc-672f-41a0-8c5e-09a0b5c592f4",
   "metadata": {},
   "source": [
    "With the <code>upload_file()</code>-method, one can upload a .py-file to all present workers directory. (Or many files archived in a .zip) <br>Documentation: [https://distributed.dask.org/en/stable/api.html#distributed.Client.upload_file](https://distributed.dask.org/en/stable/api.html#distributed.Client.upload_file)"
   ]
  },
  {
   "cell_type": "code",
   "execution_count": null,
   "id": "661c4fa3-1780-4785-b060-e65211aa62ad",
   "metadata": {},
   "outputs": [],
   "source": [
    "client.upload_file('functions.py', load=True) # Now, the workers will be able to locate those functions:"
   ]
  },
  {
   "cell_type": "code",
   "execution_count": null,
   "id": "877d4eb0-fd03-4b24-ae20-02469a226a4c",
   "metadata": {},
   "outputs": [],
   "source": [
    "%%time\n",
    "result = random_numbercrunching_in_parallel()"
   ]
  },
  {
   "cell_type": "code",
   "execution_count": null,
   "id": "4afabf13-d847-48ac-a2b0-c6d301190d53",
   "metadata": {},
   "outputs": [],
   "source": [
    "%%time\n",
    "animate_tutorial_dataset(hours = 12) # Out of 744"
   ]
  },
  {
   "cell_type": "code",
   "execution_count": null,
   "id": "36a05733-223e-476c-8eba-c54e59ec2edc",
   "metadata": {},
   "outputs": [],
   "source": [
    "cluster.close()"
   ]
  }
 ],
 "metadata": {
  "kernelspec": {
   "display_name": "Python 3 (ipykernel)",
   "language": "python",
   "name": "python3"
  },
  "language_info": {
   "codemirror_mode": {
    "name": "ipython",
    "version": 3
   },
   "file_extension": ".py",
   "mimetype": "text/x-python",
   "name": "python",
   "nbconvert_exporter": "python",
   "pygments_lexer": "ipython3",
   "version": "3.10.8"
  }
 },
 "nbformat": 4,
 "nbformat_minor": 5
}
