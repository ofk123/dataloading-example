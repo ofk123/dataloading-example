{
 "cells": [
  {
   "cell_type": "code",
   "execution_count": 1,
   "metadata": {},
   "outputs": [],
   "source": [
    "import xarray as xr\n",
    "import numpy as np\n",
    "from numpy import pi, sin, cos, arccos, clip, deg2rad\n",
    "import numpy.ma as ma\n",
    "from datetime import datetime\n",
    "import dask\n",
    "import time\n",
    "import zarr"
   ]
  },
  {
   "cell_type": "markdown",
   "metadata": {
    "tags": []
   },
   "source": [
    "#### 30 equally structured datasets stored in 30 zarr-stores.\n",
    "All datasets have 5 columns,  `latitude`, `longitude`, `time`, `mean`, `anomalies`, each with shape = (2105319,) "
   ]
  },
  {
   "cell_type": "code",
   "execution_count": 2,
   "metadata": {},
   "outputs": [],
   "source": [
    "import json\n",
    "import gcsfs\n",
    "\n",
    "with open('pangeo-181919-e7bc5bdaf4d5.json') as f:\n",
    "    token = json.load(f)\n",
    "gcs = gcsfs.GCSFileSystem(token=token)\n",
    "\n",
    "plevel = 4 # Choosing an arbitrary dataset out of the 30\n",
    "dspath='pangeo-argo-eke/global/mean_and_anomalies/with_pressure_coordinate/readable_ws_and_NHarm/mean_and_anomalies_global_ws500_plevel'+str(plevel)+'.zarr'\n",
    "mapper_alt0 = gcs.get_mapper(dspath)\n",
    "d = xr.open_zarr(mapper_alt0, consolidated=True, decode_cf=False )"
   ]
  },
  {
   "cell_type": "code",
   "execution_count": 3,
   "metadata": {},
   "outputs": [
    {
     "data": {
      "text/plain": [
       "<Logger gcsfs (DEBUG)>"
      ]
     },
     "execution_count": 3,
     "metadata": {},
     "output_type": "execute_result"
    }
   ],
   "source": [
    "import fsspec.utils\n",
    "fsspec.utils.setup_logging(logger_name=\"gcsfs\")"
   ]
  },
  {
   "cell_type": "markdown",
   "metadata": {},
   "source": [
    "### Storing data"
   ]
  },
  {
   "cell_type": "code",
   "execution_count": null,
   "metadata": {},
   "outputs": [],
   "source": [
    "# Mean and anomalies for pressurelevel is saved to output-path:\n",
    "ds = xr.Dataset(\n",
    "    data_vars = dict(\n",
    "        Mean = ( [\"i\", \"pressure\"], d.Mean.load().values ),\n",
    "        Anomalies = ( [\"i\", \"pressure\"], d.Anomalies.load().values ),\n",
    "    ),\n",
    "    coords=dict(\n",
    "        time = ( [\"i\"], d.time.load().values ),\n",
    "        latitude = ( [\"i\"], d.latitude.load().values ),\n",
    "        longitude = ( [\"i\"], d.longitude.load().values ),\n",
    "        pressure = ([\"pressure\"], d.pressure.load().values ),\n",
    "    ),\n",
    "    attrs=dict(\n",
    "        description = 'Estimated mean dynamic height on profile-coordinates, and anomalies by subtracting estimated mean from observations',\n",
    "        pressureindex = d.pressureindex,\n",
    "        number_of_harmonics = d.number_of_harmonics,\n",
    "        window_size = d.window_size,\n",
    "        creation_date = str( datetime.now() )\n",
    "    ),\n",
    ")\n",
    "\n",
    "ds.time.attrs[\"standard_name\"] = 'time'\n",
    "ds.time.attrs[\"units\"] = 'days since 1970-01-01 00:00:00'\n",
    "ds.latitude.attrs[\"standard_name\"] = 'latitude'\n",
    "ds.latitude.attrs[\"units\"] = 'degrees_north'\n",
    "ds.longitude.attrs[\"standard_name\"] = 'longitude'\n",
    "ds.longitude.attrs[\"units\"] = 'degrees_east'\n",
    "ds.pressure.attrs[\"standard_name\"] = 'pressure'\n",
    "ds.pressure.attrs[\"units\"] = 'decibar'\n",
    "ds.Mean.attrs[\"standard_name\"] = 'Estimated mean dynamic height'\n",
    "ds.Mean.attrs[\"units\"] = 'm^2/s^2'\n",
    "ds.Anomalies.attrs[\"standard_name\"] = 'dynamic height anomalies'\n",
    "ds.Anomalies.attrs[\"units\"] = 'm^2/s^2'\n",
    "\n",
    "dsc = ds.chunk()\n",
    "outfile = 'pangeo-argo-eke/chunk_alternatives/global_mean_and_anomalies_plevel'+str(plevel)+'_current_zarr-storing-code.zarr'\n",
    "mapper_alt1 = gcs.get_mapper(outfile)\n",
    "dsc.to_zarr(mapper_alt1, consolidated=True)"
   ]
  },
  {
   "cell_type": "markdown",
   "metadata": {},
   "source": [
    "#### Size of each dataset in megabytes"
   ]
  },
  {
   "cell_type": "code",
   "execution_count": 7,
   "metadata": {},
   "outputs": [
    {
     "data": {
      "text/plain": [
       "84.212768"
      ]
     },
     "execution_count": 7,
     "metadata": {},
     "output_type": "execute_result"
    }
   ],
   "source": [
    "dsc.nbytes/1e6"
   ]
  },
  {
   "cell_type": "markdown",
   "metadata": {
    "tags": []
   },
   "source": [
    "### Connect to a dask-cluster and set cluster-options"
   ]
  },
  {
   "cell_type": "code",
   "execution_count": 8,
   "metadata": {},
   "outputs": [
    {
     "data": {
      "text/plain": [
       "[]"
      ]
     },
     "execution_count": 8,
     "metadata": {},
     "output_type": "execute_result"
    }
   ],
   "source": [
    "from dask_gateway import GatewayCluster, Gateway\n",
    "from distributed import Client\n",
    "\n",
    "g = Gateway()\n",
    "g.list_clusters()"
   ]
  },
  {
   "cell_type": "code",
   "execution_count": 9,
   "metadata": {},
   "outputs": [],
   "source": [
    "#cluster = g.connect(g.list_clusters()[0].name)"
   ]
  },
  {
   "cell_type": "code",
   "execution_count": 10,
   "metadata": {},
   "outputs": [],
   "source": [
    "options = g.cluster_options()\n",
    "options.worker_cores = 2; options.worker_memory = 4\n",
    "# Create a cluster with those options\n",
    "cluster = g.new_cluster(options)"
   ]
  },
  {
   "cell_type": "code",
   "execution_count": 50,
   "metadata": {},
   "outputs": [],
   "source": [
    "#g.list_clusters()"
   ]
  },
  {
   "cell_type": "code",
   "execution_count": 11,
   "metadata": {},
   "outputs": [
    {
     "data": {
      "text/html": [
       "<div>\n",
       "    <div style=\"width: 24px; height: 24px; background-color: #e1e1e1; border: 3px solid #9D9D9D; border-radius: 5px; position: absolute;\"> </div>\n",
       "    <div style=\"margin-left: 48px;\">\n",
       "        <h3 style=\"margin-bottom: 0px;\">Client</h3>\n",
       "        <p style=\"color: #9D9D9D; margin-bottom: 0px;\">Client-cc245035-2caa-11ee-8159-4edf5f6f3796</p>\n",
       "        <table style=\"width: 100%; text-align: left;\">\n",
       "\n",
       "        <tr>\n",
       "        \n",
       "            <td style=\"text-align: left;\"><strong>Connection method:</strong> Cluster object</td>\n",
       "            <td style=\"text-align: left;\"><strong>Cluster type:</strong> dask_gateway.GatewayCluster</td>\n",
       "        \n",
       "        </tr>\n",
       "\n",
       "        \n",
       "            <tr>\n",
       "                <td style=\"text-align: left;\">\n",
       "                    <strong>Dashboard: </strong> <a href=\"/services/dask-gateway/clusters/prod.5a5ed91bd69c4708a888ddff55b6a356/status\" target=\"_blank\">/services/dask-gateway/clusters/prod.5a5ed91bd69c4708a888ddff55b6a356/status</a>\n",
       "                </td>\n",
       "                <td style=\"text-align: left;\"></td>\n",
       "            </tr>\n",
       "        \n",
       "\n",
       "        </table>\n",
       "\n",
       "        \n",
       "            <button style=\"margin-bottom: 12px;\" data-commandlinker-command=\"dask:populate-and-launch-layout\" data-commandlinker-args='{\"url\": \"/services/dask-gateway/clusters/prod.5a5ed91bd69c4708a888ddff55b6a356/status\" }'>\n",
       "                Launch dashboard in JupyterLab\n",
       "            </button>\n",
       "        \n",
       "\n",
       "        \n",
       "            <details>\n",
       "            <summary style=\"margin-bottom: 20px;\"><h3 style=\"display: inline;\">Cluster Info</h3></summary>\n",
       "            <div style='background-color: #f2f2f2; display: inline-block; padding: 10px; border: 1px solid #999999;'>\n",
       "  <h3>GatewayCluster</h3>\n",
       "  <ul>\n",
       "    <li><b>Name: </b>prod.5a5ed91bd69c4708a888ddff55b6a356\n",
       "    <li><b>Dashboard: </b><a href='/services/dask-gateway/clusters/prod.5a5ed91bd69c4708a888ddff55b6a356/status' target='_blank'>/services/dask-gateway/clusters/prod.5a5ed91bd69c4708a888ddff55b6a356/status</a>\n",
       "  </ul>\n",
       "</div>\n",
       "\n",
       "            </details>\n",
       "        \n",
       "\n",
       "    </div>\n",
       "</div>"
      ],
      "text/plain": [
       "<Client: 'tls://10.9.49.6:8786' processes=0 threads=0, memory=0 B>"
      ]
     },
     "execution_count": 11,
     "metadata": {},
     "output_type": "execute_result"
    }
   ],
   "source": [
    "client = Client(cluster)\n",
    "client"
   ]
  },
  {
   "cell_type": "code",
   "execution_count": 12,
   "metadata": {},
   "outputs": [],
   "source": [
    "cluster.scale(1)"
   ]
  },
  {
   "cell_type": "markdown",
   "metadata": {
    "tags": []
   },
   "source": [
    "### Loading of data from cloud-storage<br>\n",
    "Want to load 4 columns of data, `latitude`, `longitude`, `time`, `anomalies`, to several dask-workers memory and do embarrasingly parallel computations ( ~1e6  )."
   ]
  },
  {
   "cell_type": "markdown",
   "metadata": {},
   "source": [
    "Loading data only:"
   ]
  },
  {
   "cell_type": "code",
   "execution_count": 188,
   "metadata": {},
   "outputs": [],
   "source": [
    "@dask.delayed\n",
    "def load_chunksauto(mapper):\n",
    "    \"\"\"Load data from zarr-store into worker-memory\"\"\"\n",
    "    \n",
    "    ds = xr.open_zarr(mapper, consolidated=True, chunks='auto') \n",
    "    data0 = ds.Anomalies.sel(pressure=50).load().values # shape=(n,) from shape=(n,1)\n",
    "    ii = ~xr.apply_ufunc(np.isnan, data0)\n",
    "    data, lat, lon, time = data0[ii], ds.latitude.load().values[ii], ds.longitude.load().values[ii], ds.time.load().values[ii]\n",
    "    \n",
    "    # Calculation using data-, lat-, lon-, and time-arrays\n",
    "    #\n",
    "    #\n",
    "    #\n",
    "    return None"
   ]
  },
  {
   "cell_type": "code",
   "execution_count": 190,
   "metadata": {},
   "outputs": [],
   "source": [
    "@dask.delayed\n",
    "def load_zarr(mapper):\n",
    "    \"\"\"Load data from zarr-store into worker-memory\"\"\"\n",
    "    \n",
    "    z = zarr.open_consolidated(mapper)\n",
    "    data0 = np.squeeze(z.Anomalies[:]) # shape=(n,) from shape=(n,1)\n",
    "    ii = ~np.isnan(data0)\n",
    "    data, lat, lon, time = data0[ii], z.latitude[:][ii], z.longitude[:][ii], z.time[:][ii]\n",
    "    \n",
    "    # Calculation using data-, lat-, lon-, and time-arrays\n",
    "    #\n",
    "    #\n",
    "    #\n",
    "    return None"
   ]
  },
  {
   "cell_type": "code",
   "execution_count": 228,
   "metadata": {},
   "outputs": [],
   "source": [
    "@dask.delayed\n",
    "def load_zarr_convenience(mapper):\n",
    "    \"\"\"Load data from zarr-store into worker-memory\"\"\"\n",
    "    \n",
    "    z = zarr.convenience.open_consolidated(mapper)\n",
    "    data0 = np.squeeze(z.Anomalies[:]) # shape=(n,) from shape=(n,1)\n",
    "    ii = ~np.isnan(data0)\n",
    "    data, lat, lon, time = data0[ii], z.latitude[:][ii], z.longitude[:][ii], z.time[:][ii]\n",
    "    \n",
    "    # Calculation using data-, lat-, lon-, and time-arrays\n",
    "    #\n",
    "    #\n",
    "    #\n",
    "    return None"
   ]
  },
  {
   "cell_type": "markdown",
   "metadata": {
    "tags": []
   },
   "source": [
    "### Timing loading of data:<br>"
   ]
  },
  {
   "cell_type": "markdown",
   "metadata": {},
   "source": [
    "<br>\n",
    "ds = xr.open_zarr(mapper, consolidated=True, chunks='auto'); ...  "
   ]
  },
  {
   "cell_type": "code",
   "execution_count": 226,
   "metadata": {},
   "outputs": [
    {
     "name": "stdout",
     "output_type": "stream",
     "text": [
      "1.15 s ± 157 ms per loop (mean ± std. dev. of 7 runs, 1 loop each)\n"
     ]
    }
   ],
   "source": [
    "%timeit dask.compute( load_chunksauto(mapper_alt1) )[0]"
   ]
  },
  {
   "cell_type": "markdown",
   "metadata": {},
   "source": [
    "<br>\n",
    "ds = zarr.open_consolidated(mapper); ... "
   ]
  },
  {
   "cell_type": "code",
   "execution_count": 234,
   "metadata": {},
   "outputs": [
    {
     "name": "stdout",
     "output_type": "stream",
     "text": [
      "1.15 s ± 190 ms per loop (mean ± std. dev. of 7 runs, 1 loop each)\n"
     ]
    }
   ],
   "source": [
    "%timeit dask.compute( load_zarr(mapper_alt1) )[0]"
   ]
  },
  {
   "cell_type": "markdown",
   "metadata": {},
   "source": [
    "<br>\n",
    "ds = zarr.convenience.open_consolidated(mapper); ... "
   ]
  },
  {
   "cell_type": "code",
   "execution_count": 232,
   "metadata": {},
   "outputs": [
    {
     "name": "stdout",
     "output_type": "stream",
     "text": [
      "1.16 s ± 53.8 ms per loop (mean ± std. dev. of 7 runs, 1 loop each)\n"
     ]
    }
   ],
   "source": [
    "%timeit dask.compute( load_zarr_convenience(mapper_alt1) )[0]"
   ]
  },
  {
   "cell_type": "markdown",
   "metadata": {},
   "source": [
    "#### Scaling down and closing cluster"
   ]
  },
  {
   "cell_type": "code",
   "execution_count": 235,
   "metadata": {},
   "outputs": [],
   "source": [
    "cluster.scale(0)"
   ]
  },
  {
   "cell_type": "code",
   "execution_count": 236,
   "metadata": {},
   "outputs": [],
   "source": [
    "cluster.close()"
   ]
  },
  {
   "cell_type": "code",
   "execution_count": 237,
   "metadata": {},
   "outputs": [
    {
     "name": "stderr",
     "output_type": "stream",
     "text": [
      "2023-07-27 19:42:09,769 - distributed.client - ERROR - \n",
      "Traceback (most recent call last):\n",
      "  File \"/srv/conda/envs/notebook/lib/python3.10/site-packages/distributed/utils.py\", line 742, in wrapper\n",
      "    return await func(*args, **kwargs)\n",
      "  File \"/srv/conda/envs/notebook/lib/python3.10/site-packages/distributed/client.py\", line 1298, in _reconnect\n",
      "    await self._ensure_connected(timeout=timeout)\n",
      "  File \"/srv/conda/envs/notebook/lib/python3.10/site-packages/distributed/client.py\", line 1328, in _ensure_connected\n",
      "    comm = await connect(\n",
      "  File \"/srv/conda/envs/notebook/lib/python3.10/site-packages/distributed/comm/core.py\", line 291, in connect\n",
      "    comm = await asyncio.wait_for(\n",
      "  File \"/srv/conda/envs/notebook/lib/python3.10/asyncio/tasks.py\", line 432, in wait_for\n",
      "    await waiter\n",
      "asyncio.exceptions.CancelledError\n",
      "\n",
      "Traceback (most recent call last):\n",
      "  File \"/srv/conda/envs/notebook/lib/python3.10/site-packages/distributed/utils.py\", line 742, in wrapper\n",
      "    return await func(*args, **kwargs)\n",
      "  File \"/srv/conda/envs/notebook/lib/python3.10/site-packages/distributed/client.py\", line 1508, in _handle_report\n",
      "    await self._reconnect()\n",
      "  File \"/srv/conda/envs/notebook/lib/python3.10/site-packages/distributed/utils.py\", line 742, in wrapper\n",
      "    return await func(*args, **kwargs)\n",
      "  File \"/srv/conda/envs/notebook/lib/python3.10/site-packages/distributed/client.py\", line 1298, in _reconnect\n",
      "    await self._ensure_connected(timeout=timeout)\n",
      "  File \"/srv/conda/envs/notebook/lib/python3.10/site-packages/distributed/client.py\", line 1328, in _ensure_connected\n",
      "    comm = await connect(\n",
      "  File \"/srv/conda/envs/notebook/lib/python3.10/site-packages/distributed/comm/core.py\", line 291, in connect\n",
      "    comm = await asyncio.wait_for(\n",
      "  File \"/srv/conda/envs/notebook/lib/python3.10/asyncio/tasks.py\", line 432, in wait_for\n",
      "    await waiter\n",
      "asyncio.exceptions.CancelledError\n"
     ]
    }
   ],
   "source": [
    "cluster.shutdown()"
   ]
  },
  {
   "cell_type": "markdown",
   "metadata": {},
   "source": [
    "### The reports from the logger\n",
    "(I am not sure if these look the same for the dask-workers):"
   ]
  },
  {
   "cell_type": "code",
   "execution_count": 203,
   "metadata": {},
   "outputs": [
    {
     "name": "stderr",
     "output_type": "stream",
     "text": [
      "2023-07-27 19:26:24,732 - gcsfs - DEBUG - _call -- GET: https://storage.googleapis.com/download/storage/v1/b/pangeo-argo-eke/o/chunk_alternatives%2Fglobal_mean_and_anomalies_plevel4_current_zarr-storing-code.zarr%2F.zmetadata?alt=media, (), {}\n",
      "2023-07-27 19:26:24,775 - gcsfs - DEBUG - _call -- GET: https://storage.googleapis.com/download/storage/v1/b/pangeo-argo-eke/o/chunk_alternatives%2Fglobal_mean_and_anomalies_plevel4_current_zarr-storing-code.zarr%2Ftime%2F0?alt=media, (), {}\n",
      "2023-07-27 19:26:24,919 - gcsfs - DEBUG - _call -- GET: https://storage.googleapis.com/download/storage/v1/b/pangeo-argo-eke/o/chunk_alternatives%2Fglobal_mean_and_anomalies_plevel4_current_zarr-storing-code.zarr%2Ftime%2F0?alt=media, (), {}\n",
      "2023-07-27 19:26:25,014 - gcsfs - DEBUG - _call -- GET: https://storage.googleapis.com/download/storage/v1/b/pangeo-argo-eke/o/chunk_alternatives%2Fglobal_mean_and_anomalies_plevel4_current_zarr-storing-code.zarr%2Fpressure%2F0?alt=media, (), {}\n"
     ]
    }
   ],
   "source": [
    "ds = xr.open_zarr(mapper_alt1, consolidated=True, chunks='auto') \n",
    "data0 = ds.Anomalies.sel(pressure=50).load().values # shape=(n,) from shape=(n,1)\n",
    "ii = ~xr.apply_ufunc(np.isnan, data0)\n",
    "data, lat, lon, time = data0[ii], ds.latitude.load().values[ii], ds.longitude.load().values[ii], ds.time.load().values[ii]"
   ]
  },
  {
   "cell_type": "code",
   "execution_count": 206,
   "metadata": {},
   "outputs": [
    {
     "name": "stderr",
     "output_type": "stream",
     "text": [
      "2023-07-27 19:26:35,849 - gcsfs - DEBUG - _call -- GET: https://storage.googleapis.com/download/storage/v1/b/pangeo-argo-eke/o/chunk_alternatives%2Fglobal_mean_and_anomalies_plevel4_current_zarr-storing-code.zarr%2F.zmetadata?alt=media, (), {}\n",
      "2023-07-27 19:26:35,896 - gcsfs - DEBUG - _call -- GET: https://storage.googleapis.com/download/storage/v1/b/pangeo-argo-eke/o/chunk_alternatives%2Fglobal_mean_and_anomalies_plevel4_current_zarr-storing-code.zarr%2FAnomalies%2F0.0?alt=media, (), {}\n",
      "2023-07-27 19:26:36,044 - gcsfs - DEBUG - _call -- GET: https://storage.googleapis.com/download/storage/v1/b/pangeo-argo-eke/o/chunk_alternatives%2Fglobal_mean_and_anomalies_plevel4_current_zarr-storing-code.zarr%2Flatitude%2F0?alt=media, (), {}\n",
      "2023-07-27 19:26:36,200 - gcsfs - DEBUG - _call -- GET: https://storage.googleapis.com/download/storage/v1/b/pangeo-argo-eke/o/chunk_alternatives%2Fglobal_mean_and_anomalies_plevel4_current_zarr-storing-code.zarr%2Flongitude%2F0?alt=media, (), {}\n",
      "2023-07-27 19:26:36,348 - gcsfs - DEBUG - _call -- GET: https://storage.googleapis.com/download/storage/v1/b/pangeo-argo-eke/o/chunk_alternatives%2Fglobal_mean_and_anomalies_plevel4_current_zarr-storing-code.zarr%2Ftime%2F0?alt=media, (), {}\n"
     ]
    }
   ],
   "source": [
    "z = zarr.open_consolidated(mapper_alt1);\n",
    "zanom0= np.squeeze(z.Anomalies[:]);\n",
    "ii= ~np.isnan(zanom0);\n",
    "zanom= zanom0[ii]; \n",
    "zlat = z.latitude[:][ii]; \n",
    "zlon=z.longitude[:][ii]; \n",
    "zt = z.time[:][ii]; "
   ]
  },
  {
   "cell_type": "code",
   "execution_count": 207,
   "metadata": {},
   "outputs": [
    {
     "name": "stderr",
     "output_type": "stream",
     "text": [
      "2023-07-27 19:26:39,607 - gcsfs - DEBUG - _call -- GET: https://storage.googleapis.com/download/storage/v1/b/pangeo-argo-eke/o/chunk_alternatives%2Fglobal_mean_and_anomalies_plevel4_current_zarr-storing-code.zarr%2F.zmetadata?alt=media, (), {}\n",
      "2023-07-27 19:26:39,651 - gcsfs - DEBUG - _call -- GET: https://storage.googleapis.com/download/storage/v1/b/pangeo-argo-eke/o/chunk_alternatives%2Fglobal_mean_and_anomalies_plevel4_current_zarr-storing-code.zarr%2FAnomalies%2F0.0?alt=media, (), {}\n",
      "2023-07-27 19:26:39,787 - gcsfs - DEBUG - _call -- GET: https://storage.googleapis.com/download/storage/v1/b/pangeo-argo-eke/o/chunk_alternatives%2Fglobal_mean_and_anomalies_plevel4_current_zarr-storing-code.zarr%2Flatitude%2F0?alt=media, (), {}\n",
      "2023-07-27 19:26:39,989 - gcsfs - DEBUG - _call -- GET: https://storage.googleapis.com/download/storage/v1/b/pangeo-argo-eke/o/chunk_alternatives%2Fglobal_mean_and_anomalies_plevel4_current_zarr-storing-code.zarr%2Flongitude%2F0?alt=media, (), {}\n",
      "2023-07-27 19:26:40,184 - gcsfs - DEBUG - _call -- GET: https://storage.googleapis.com/download/storage/v1/b/pangeo-argo-eke/o/chunk_alternatives%2Fglobal_mean_and_anomalies_plevel4_current_zarr-storing-code.zarr%2Ftime%2F0?alt=media, (), {}\n"
     ]
    }
   ],
   "source": [
    "z = zarr.convenience.open_consolidated(mapper_alt1)\n",
    "data0 = np.squeeze(z.Anomalies[:]) # shape=(n,) from shape=(n,1)\n",
    "ii = ~np.isnan(data0)\n",
    "data, lat, lon, time = data0[ii], z.latitude[:][ii], z.longitude[:][ii], z.time[:][ii]"
   ]
  }
 ],
 "metadata": {
  "kernelspec": {
   "display_name": "Python 3 (ipykernel)",
   "language": "python",
   "name": "python3"
  },
  "language_info": {
   "codemirror_mode": {
    "name": "ipython",
    "version": 3
   },
   "file_extension": ".py",
   "mimetype": "text/x-python",
   "name": "python",
   "nbconvert_exporter": "python",
   "pygments_lexer": "ipython3",
   "version": "3.10.8"
  }
 },
 "nbformat": 4,
 "nbformat_minor": 4
}
