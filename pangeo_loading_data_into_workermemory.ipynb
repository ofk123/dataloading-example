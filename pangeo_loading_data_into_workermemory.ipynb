{
 "cells": [
  {
   "cell_type": "code",
   "execution_count": 1,
   "metadata": {},
   "outputs": [],
   "source": [
    "import xarray as xr\n",
    "import numpy as np\n",
    "from numpy import pi, sin, cos, arccos, clip, deg2rad\n",
    "import numpy.ma as ma\n",
    "from datetime import datetime\n",
    "import dask\n",
    "import time\n",
    "import zarr"
   ]
  },
  {
   "cell_type": "code",
   "execution_count": 2,
   "metadata": {},
   "outputs": [],
   "source": [
    "import gcsfs\n",
    "gcs = gcsfs.GCSFileSystem()\n",
    "import os\n",
    "SCRATCH_BUCKET = os.environ['PANGEO_SCRATCH']"
   ]
  },
  {
   "cell_type": "code",
   "execution_count": 25,
   "metadata": {},
   "outputs": [],
   "source": [
    "n = 2105319\n",
    "Anomalies = np.random.uniform(-1, 5, n).reshape(n,1)\n",
    "time = np.random.uniform(13000, 18500, n).reshape(n,1)\n",
    "latitude =  np.random.uniform(-80, 80, n).reshape(n,1)\n",
    "longitude = np.random.uniform(-180, 180, n).reshape(n,1)"
   ]
  },
  {
   "cell_type": "code",
   "execution_count": 47,
   "metadata": {},
   "outputs": [],
   "source": [
    "#AnomArray = np.concatenate((Anomalies, time, latitude, longitude), axis=1)"
   ]
  },
  {
   "cell_type": "code",
   "execution_count": 33,
   "metadata": {},
   "outputs": [],
   "source": [
    "cols = ['Anomalies', 'time', 'latitude', 'longitude']"
   ]
  },
  {
   "cell_type": "markdown",
   "metadata": {
    "tags": []
   },
   "source": [
    "#### Equally structured datasets stored in several zarr-stores.\n",
    "All datasets have 5 columns (like the example below), each with shape = (~2105319,)"
   ]
  },
  {
   "cell_type": "markdown",
   "metadata": {},
   "source": [
    "### Storing data"
   ]
  },
  {
   "cell_type": "code",
   "execution_count": 97,
   "metadata": {},
   "outputs": [
    {
     "name": "stderr",
     "output_type": "stream",
     "text": [
      "2023-07-28 18:53:59,364 - gcsfs - DEBUG - _call -- GET: https://storage.googleapis.com/download/storage/v1/b/pangeo-integration-te-3eea-prod-scratch-bucket/o/ofk123%2Fdataset_alternative_2.zarr%2F.zarray?alt=media, (), {}\n",
      "2023-07-28 18:53:59,418 - gcsfs - DEBUG - _call -- GET: https://storage.googleapis.com/download/storage/v1/b/pangeo-integration-te-3eea-prod-scratch-bucket/o/ofk123%2Fdataset_alternative_2.zarr%2F.zgroup?alt=media, (), {}\n",
      "2023-07-28 18:53:59,443 - gcsfs - DEBUG - _call -- GET: https://storage.googleapis.com/download/storage/v1/b/pangeo-integration-te-3eea-prod-scratch-bucket/o/ofk123%2Fdataset_alternative_2.zarr%2F.zarray?alt=media, (), {}\n",
      "2023-07-28 18:53:59,468 - gcsfs - DEBUG - _call -- GET: https://storage.googleapis.com/download/storage/v1/b/pangeo-integration-te-3eea-prod-scratch-bucket/o/ofk123%2Fdataset_alternative_2.zarr%2F.zgroup?alt=media, (), {}\n",
      "2023-07-28 18:53:59,509 - gcsfs - DEBUG - _call -- POST: https://storage.googleapis.com/upload/storage/v1/b/pangeo-integration-te-3eea-prod-scratch-bucket/o, (), {'Content-Type': 'multipart/related; boundary=\"==0==\"'}\n",
      "2023-07-28 18:53:59,577 - gcsfs - DEBUG - _call -- GET: https://storage.googleapis.com/download/storage/v1/b/pangeo-integration-te-3eea-prod-scratch-bucket/o/ofk123%2Fdataset_alternative_2.zarr%2F.zarray?alt=media, (), {}\n",
      "2023-07-28 18:53:59,601 - gcsfs - DEBUG - _call -- GET: https://storage.googleapis.com/download/storage/v1/b/pangeo-integration-te-3eea-prod-scratch-bucket/o/ofk123%2Fdataset_alternative_2.zarr%2F.zgroup?alt=media, (), {}\n",
      "2023-07-28 18:53:59,641 - gcsfs - DEBUG - _call -- GET: https://storage.googleapis.com/download/storage/v1/b/pangeo-integration-te-3eea-prod-scratch-bucket/o/ofk123%2Fdataset_alternative_2.zarr%2FAnomArray%2F.zarray?alt=media, (), {}\n",
      "2023-07-28 18:53:59,671 - gcsfs - DEBUG - _call -- GET: https://storage.googleapis.com/download/storage/v1/b/pangeo-integration-te-3eea-prod-scratch-bucket/o/ofk123%2Fdataset_alternative_2.zarr%2FAnomArray%2F.zgroup?alt=media, (), {}\n",
      "2023-07-28 18:53:59,698 - gcsfs - DEBUG - _call -- GET: https://storage.googleapis.com/download/storage/v1/b/pangeo-integration-te-3eea-prod-scratch-bucket/o/ofk123%2Fdataset_alternative_2.zarr%2Fcolumns%2F.zarray?alt=media, (), {}\n",
      "2023-07-28 18:53:59,719 - gcsfs - DEBUG - _call -- GET: https://storage.googleapis.com/download/storage/v1/b/pangeo-integration-te-3eea-prod-scratch-bucket/o/ofk123%2Fdataset_alternative_2.zarr%2Fcolumns%2F.zgroup?alt=media, (), {}\n",
      "2023-07-28 18:53:59,744 - gcsfs - DEBUG - _call -- GET: https://storage.googleapis.com/download/storage/v1/b/pangeo-integration-te-3eea-prod-scratch-bucket/o/ofk123%2Fdataset_alternative_2.zarr%2Fi%2F.zarray?alt=media, (), {}\n",
      "2023-07-28 18:53:59,768 - gcsfs - DEBUG - _call -- GET: https://storage.googleapis.com/download/storage/v1/b/pangeo-integration-te-3eea-prod-scratch-bucket/o/ofk123%2Fdataset_alternative_2.zarr%2Fi%2F.zgroup?alt=media, (), {}\n",
      "2023-07-28 18:53:59,796 - gcsfs - DEBUG - _call -- POST: https://storage.googleapis.com/upload/storage/v1/b/pangeo-integration-te-3eea-prod-scratch-bucket/o, (), {'Content-Type': 'multipart/related; boundary=\"==0==\"'}\n",
      "2023-07-28 18:53:59,863 - gcsfs - DEBUG - _call -- GET: https://storage.googleapis.com/download/storage/v1/b/pangeo-integration-te-3eea-prod-scratch-bucket/o/ofk123%2Fdataset_alternative_2.zarr%2FAnomArray%2F.zarray?alt=media, (), {}\n",
      "2023-07-28 18:53:59,888 - gcsfs - DEBUG - _call -- GET: https://storage.googleapis.com/download/storage/v1/b/pangeo-integration-te-3eea-prod-scratch-bucket/o/ofk123%2Fdataset_alternative_2.zarr%2FAnomArray%2F.zgroup?alt=media, (), {}\n",
      "2023-07-28 18:53:59,910 - gcsfs - DEBUG - _call -- GET: https://storage.googleapis.com/download/storage/v1/b/pangeo-integration-te-3eea-prod-scratch-bucket/o/ofk123%2Fdataset_alternative_2.zarr%2F.zarray?alt=media, (), {}\n",
      "2023-07-28 18:53:59,932 - gcsfs - DEBUG - _call -- GET: https://storage.googleapis.com/download/storage/v1/b/pangeo-integration-te-3eea-prod-scratch-bucket/o/ofk123%2Fdataset_alternative_2.zarr%2F.zgroup?alt=media, (), {}\n",
      "2023-07-28 18:53:59,972 - gcsfs - DEBUG - _call -- GET: https://storage.googleapis.com/download/storage/v1/b/pangeo-integration-te-3eea-prod-scratch-bucket/o/ofk123%2Fdataset_alternative_2.zarr%2FAnomArray%2F.zarray?alt=media, (), {}\n",
      "2023-07-28 18:53:59,995 - gcsfs - DEBUG - _call -- GET: https://storage.googleapis.com/download/storage/v1/b/pangeo-integration-te-3eea-prod-scratch-bucket/o/ofk123%2Fdataset_alternative_2.zarr%2FAnomArray%2F.zgroup?alt=media, (), {}\n",
      "2023-07-28 18:54:00,051 - gcsfs - DEBUG - _call -- POST: https://storage.googleapis.com/upload/storage/v1/b/pangeo-integration-te-3eea-prod-scratch-bucket/o, (), {'Content-Type': 'multipart/related; boundary=\"==0==\"'}\n",
      "2023-07-28 18:54:00,269 - gcsfs - DEBUG - _call -- GET: https://storage.googleapis.com/download/storage/v1/b/pangeo-integration-te-3eea-prod-scratch-bucket/o/ofk123%2Fdataset_alternative_2.zarr%2FAnomArray%2F.zarray?alt=media, (), {}\n",
      "2023-07-28 18:54:00,362 - gcsfs - DEBUG - _call -- POST: https://storage.googleapis.com/upload/storage/v1/b/pangeo-integration-te-3eea-prod-scratch-bucket/o, (), {'Content-Type': 'multipart/related; boundary=\"==0==\"'}\n",
      "2023-07-28 18:54:00,441 - gcsfs - DEBUG - _call -- GET: https://storage.googleapis.com/download/storage/v1/b/pangeo-integration-te-3eea-prod-scratch-bucket/o/ofk123%2Fdataset_alternative_2.zarr%2Fi%2F.zarray?alt=media, (), {}\n",
      "2023-07-28 18:54:00,471 - gcsfs - DEBUG - _call -- GET: https://storage.googleapis.com/download/storage/v1/b/pangeo-integration-te-3eea-prod-scratch-bucket/o/ofk123%2Fdataset_alternative_2.zarr%2Fi%2F.zgroup?alt=media, (), {}\n",
      "2023-07-28 18:54:00,496 - gcsfs - DEBUG - _call -- GET: https://storage.googleapis.com/download/storage/v1/b/pangeo-integration-te-3eea-prod-scratch-bucket/o/ofk123%2Fdataset_alternative_2.zarr%2F.zarray?alt=media, (), {}\n",
      "2023-07-28 18:54:00,523 - gcsfs - DEBUG - _call -- GET: https://storage.googleapis.com/download/storage/v1/b/pangeo-integration-te-3eea-prod-scratch-bucket/o/ofk123%2Fdataset_alternative_2.zarr%2F.zgroup?alt=media, (), {}\n",
      "2023-07-28 18:54:00,555 - gcsfs - DEBUG - _call -- GET: https://storage.googleapis.com/download/storage/v1/b/pangeo-integration-te-3eea-prod-scratch-bucket/o/ofk123%2Fdataset_alternative_2.zarr%2Fi%2F.zarray?alt=media, (), {}\n",
      "2023-07-28 18:54:00,585 - gcsfs - DEBUG - _call -- GET: https://storage.googleapis.com/download/storage/v1/b/pangeo-integration-te-3eea-prod-scratch-bucket/o/ofk123%2Fdataset_alternative_2.zarr%2Fi%2F.zgroup?alt=media, (), {}\n",
      "2023-07-28 18:54:00,611 - gcsfs - DEBUG - _call -- POST: https://storage.googleapis.com/upload/storage/v1/b/pangeo-integration-te-3eea-prod-scratch-bucket/o, (), {'Content-Type': 'multipart/related; boundary=\"==0==\"'}\n",
      "2023-07-28 18:54:00,688 - gcsfs - DEBUG - _call -- GET: https://storage.googleapis.com/download/storage/v1/b/pangeo-integration-te-3eea-prod-scratch-bucket/o/ofk123%2Fdataset_alternative_2.zarr%2Fi%2F.zarray?alt=media, (), {}\n",
      "2023-07-28 18:54:00,736 - gcsfs - DEBUG - _call -- POST: https://storage.googleapis.com/upload/storage/v1/b/pangeo-integration-te-3eea-prod-scratch-bucket/o, (), {'Content-Type': 'multipart/related; boundary=\"==0==\"'}\n",
      "2023-07-28 18:54:00,834 - gcsfs - DEBUG - _call -- POST: https://storage.googleapis.com/upload/storage/v1/b/pangeo-integration-te-3eea-prod-scratch-bucket/o, (), {'Content-Type': 'multipart/related; boundary=\"==0==\"'}\n",
      "2023-07-28 18:54:00,910 - gcsfs - DEBUG - _call -- POST: https://storage.googleapis.com/upload/storage/v1/b/pangeo-integration-te-3eea-prod-scratch-bucket/o, (), {'Content-Type': 'multipart/related; boundary=\"==0==\"'}\n",
      "2023-07-28 18:54:00,992 - gcsfs - DEBUG - _call -- POST: https://storage.googleapis.com/upload/storage/v1/b/pangeo-integration-te-3eea-prod-scratch-bucket/o, (), {'Content-Type': 'multipart/related; boundary=\"==0==\"'}\n",
      "2023-07-28 18:54:01,084 - gcsfs - DEBUG - _call -- POST: https://storage.googleapis.com/upload/storage/v1/b/pangeo-integration-te-3eea-prod-scratch-bucket/o, (), {'Content-Type': 'multipart/related; boundary=\"==0==\"'}\n",
      "2023-07-28 18:54:01,172 - gcsfs - DEBUG - _call -- POST: https://storage.googleapis.com/upload/storage/v1/b/pangeo-integration-te-3eea-prod-scratch-bucket/o, (), {'Content-Type': 'multipart/related; boundary=\"==0==\"'}\n",
      "2023-07-28 18:54:01,251 - gcsfs - DEBUG - _call -- POST: https://storage.googleapis.com/upload/storage/v1/b/pangeo-integration-te-3eea-prod-scratch-bucket/o, (), {'Content-Type': 'multipart/related; boundary=\"==0==\"'}\n",
      "2023-07-28 18:54:01,316 - gcsfs - DEBUG - _call -- POST: https://storage.googleapis.com/upload/storage/v1/b/pangeo-integration-te-3eea-prod-scratch-bucket/o, (), {'Content-Type': 'multipart/related; boundary=\"==0==\"'}\n",
      "2023-07-28 18:54:01,397 - gcsfs - DEBUG - _call -- POST: https://storage.googleapis.com/upload/storage/v1/b/pangeo-integration-te-3eea-prod-scratch-bucket/o, (), {'Content-Type': 'multipart/related; boundary=\"==0==\"'}\n",
      "2023-07-28 18:54:01,472 - gcsfs - DEBUG - _call -- POST: https://storage.googleapis.com/upload/storage/v1/b/pangeo-integration-te-3eea-prod-scratch-bucket/o, (), {'Content-Type': 'multipart/related; boundary=\"==0==\"'}\n",
      "2023-07-28 18:54:01,543 - gcsfs - DEBUG - _call -- POST: https://storage.googleapis.com/upload/storage/v1/b/pangeo-integration-te-3eea-prod-scratch-bucket/o, (), {'Content-Type': 'multipart/related; boundary=\"==0==\"'}\n",
      "2023-07-28 18:54:01,611 - gcsfs - DEBUG - _call -- POST: https://storage.googleapis.com/upload/storage/v1/b/pangeo-integration-te-3eea-prod-scratch-bucket/o, (), {'Content-Type': 'multipart/related; boundary=\"==0==\"'}\n",
      "2023-07-28 18:54:01,685 - gcsfs - DEBUG - _call -- POST: https://storage.googleapis.com/upload/storage/v1/b/pangeo-integration-te-3eea-prod-scratch-bucket/o, (), {'Content-Type': 'multipart/related; boundary=\"==0==\"'}\n",
      "2023-07-28 18:54:01,776 - gcsfs - DEBUG - _call -- POST: https://storage.googleapis.com/upload/storage/v1/b/pangeo-integration-te-3eea-prod-scratch-bucket/o, (), {'Content-Type': 'multipart/related; boundary=\"==0==\"'}\n",
      "2023-07-28 18:54:01,847 - gcsfs - DEBUG - _call -- POST: https://storage.googleapis.com/upload/storage/v1/b/pangeo-integration-te-3eea-prod-scratch-bucket/o, (), {'Content-Type': 'multipart/related; boundary=\"==0==\"'}\n",
      "2023-07-28 18:54:01,918 - gcsfs - DEBUG - _call -- POST: https://storage.googleapis.com/upload/storage/v1/b/pangeo-integration-te-3eea-prod-scratch-bucket/o, (), {'Content-Type': 'multipart/related; boundary=\"==0==\"'}\n",
      "2023-07-28 18:54:01,985 - gcsfs - DEBUG - _call -- POST: https://storage.googleapis.com/upload/storage/v1/b/pangeo-integration-te-3eea-prod-scratch-bucket/o, (), {'Content-Type': 'multipart/related; boundary=\"==0==\"'}\n",
      "2023-07-28 18:54:02,050 - gcsfs - DEBUG - _call -- POST: https://storage.googleapis.com/upload/storage/v1/b/pangeo-integration-te-3eea-prod-scratch-bucket/o, (), {'Content-Type': 'multipart/related; boundary=\"==0==\"'}\n",
      "2023-07-28 18:54:02,116 - gcsfs - DEBUG - _call -- POST: https://storage.googleapis.com/upload/storage/v1/b/pangeo-integration-te-3eea-prod-scratch-bucket/o, (), {'Content-Type': 'multipart/related; boundary=\"==0==\"'}\n",
      "2023-07-28 18:54:02,183 - gcsfs - DEBUG - _call -- POST: https://storage.googleapis.com/upload/storage/v1/b/pangeo-integration-te-3eea-prod-scratch-bucket/o, (), {'Content-Type': 'multipart/related; boundary=\"==0==\"'}\n",
      "2023-07-28 18:54:02,275 - gcsfs - DEBUG - _call -- POST: https://storage.googleapis.com/upload/storage/v1/b/pangeo-integration-te-3eea-prod-scratch-bucket/o, (), {'Content-Type': 'multipart/related; boundary=\"==0==\"'}\n",
      "2023-07-28 18:54:02,358 - gcsfs - DEBUG - _call -- POST: https://storage.googleapis.com/upload/storage/v1/b/pangeo-integration-te-3eea-prod-scratch-bucket/o, (), {'Content-Type': 'multipart/related; boundary=\"==0==\"'}\n",
      "2023-07-28 18:54:02,430 - gcsfs - DEBUG - _call -- POST: https://storage.googleapis.com/upload/storage/v1/b/pangeo-integration-te-3eea-prod-scratch-bucket/o, (), {'Content-Type': 'multipart/related; boundary=\"==0==\"'}\n",
      "2023-07-28 18:54:02,496 - gcsfs - DEBUG - _call -- POST: https://storage.googleapis.com/upload/storage/v1/b/pangeo-integration-te-3eea-prod-scratch-bucket/o, (), {'Content-Type': 'multipart/related; boundary=\"==0==\"'}\n",
      "2023-07-28 18:54:02,574 - gcsfs - DEBUG - _call -- POST: https://storage.googleapis.com/upload/storage/v1/b/pangeo-integration-te-3eea-prod-scratch-bucket/o, (), {'Content-Type': 'multipart/related; boundary=\"==0==\"'}\n",
      "2023-07-28 18:54:02,645 - gcsfs - DEBUG - _call -- POST: https://storage.googleapis.com/upload/storage/v1/b/pangeo-integration-te-3eea-prod-scratch-bucket/o, (), {'Content-Type': 'multipart/related; boundary=\"==0==\"'}\n",
      "2023-07-28 18:54:02,726 - gcsfs - DEBUG - _call -- POST: https://storage.googleapis.com/upload/storage/v1/b/pangeo-integration-te-3eea-prod-scratch-bucket/o, (), {'Content-Type': 'multipart/related; boundary=\"==0==\"'}\n",
      "2023-07-28 18:54:02,795 - gcsfs - DEBUG - _call -- POST: https://storage.googleapis.com/upload/storage/v1/b/pangeo-integration-te-3eea-prod-scratch-bucket/o, (), {'Content-Type': 'multipart/related; boundary=\"==0==\"'}\n",
      "2023-07-28 18:54:02,871 - gcsfs - DEBUG - _call -- POST: https://storage.googleapis.com/upload/storage/v1/b/pangeo-integration-te-3eea-prod-scratch-bucket/o, (), {'Content-Type': 'multipart/related; boundary=\"==0==\"'}\n",
      "2023-07-28 18:54:02,944 - gcsfs - DEBUG - _call -- POST: https://storage.googleapis.com/upload/storage/v1/b/pangeo-integration-te-3eea-prod-scratch-bucket/o, (), {'Content-Type': 'multipart/related; boundary=\"==0==\"'}\n",
      "2023-07-28 18:54:03,029 - gcsfs - DEBUG - _call -- POST: https://storage.googleapis.com/upload/storage/v1/b/pangeo-integration-te-3eea-prod-scratch-bucket/o, (), {'Content-Type': 'multipart/related; boundary=\"==0==\"'}\n",
      "2023-07-28 18:54:03,104 - gcsfs - DEBUG - _call -- POST: https://storage.googleapis.com/upload/storage/v1/b/pangeo-integration-te-3eea-prod-scratch-bucket/o, (), {'Content-Type': 'multipart/related; boundary=\"==0==\"'}\n",
      "2023-07-28 18:54:03,178 - gcsfs - DEBUG - _call -- GET: https://storage.googleapis.com/download/storage/v1/b/pangeo-integration-te-3eea-prod-scratch-bucket/o/ofk123%2Fdataset_alternative_2.zarr%2Fi%2F31?alt=media, (), {}\n",
      "2023-07-28 18:54:03,201 - gcsfs - DEBUG - _call -- POST: https://storage.googleapis.com/upload/storage/v1/b/pangeo-integration-te-3eea-prod-scratch-bucket/o, (), {'Content-Type': 'multipart/related; boundary=\"==0==\"'}\n",
      "2023-07-28 18:54:03,280 - gcsfs - DEBUG - _call -- GET: https://storage.googleapis.com/download/storage/v1/b/pangeo-integration-te-3eea-prod-scratch-bucket/o/ofk123%2Fdataset_alternative_2.zarr%2Fcolumns%2F.zarray?alt=media, (), {}\n",
      "2023-07-28 18:54:03,311 - gcsfs - DEBUG - _call -- GET: https://storage.googleapis.com/download/storage/v1/b/pangeo-integration-te-3eea-prod-scratch-bucket/o/ofk123%2Fdataset_alternative_2.zarr%2Fcolumns%2F.zgroup?alt=media, (), {}\n",
      "2023-07-28 18:54:03,341 - gcsfs - DEBUG - _call -- GET: https://storage.googleapis.com/download/storage/v1/b/pangeo-integration-te-3eea-prod-scratch-bucket/o/ofk123%2Fdataset_alternative_2.zarr%2F.zarray?alt=media, (), {}\n",
      "2023-07-28 18:54:03,367 - gcsfs - DEBUG - _call -- GET: https://storage.googleapis.com/download/storage/v1/b/pangeo-integration-te-3eea-prod-scratch-bucket/o/ofk123%2Fdataset_alternative_2.zarr%2F.zgroup?alt=media, (), {}\n",
      "2023-07-28 18:54:03,415 - gcsfs - DEBUG - _call -- GET: https://storage.googleapis.com/download/storage/v1/b/pangeo-integration-te-3eea-prod-scratch-bucket/o/ofk123%2Fdataset_alternative_2.zarr%2Fcolumns%2F.zarray?alt=media, (), {}\n",
      "2023-07-28 18:54:03,443 - gcsfs - DEBUG - _call -- GET: https://storage.googleapis.com/download/storage/v1/b/pangeo-integration-te-3eea-prod-scratch-bucket/o/ofk123%2Fdataset_alternative_2.zarr%2Fcolumns%2F.zgroup?alt=media, (), {}\n",
      "2023-07-28 18:54:03,475 - gcsfs - DEBUG - _call -- POST: https://storage.googleapis.com/upload/storage/v1/b/pangeo-integration-te-3eea-prod-scratch-bucket/o, (), {'Content-Type': 'multipart/related; boundary=\"==0==\"'}\n",
      "2023-07-28 18:54:03,554 - gcsfs - DEBUG - _call -- GET: https://storage.googleapis.com/download/storage/v1/b/pangeo-integration-te-3eea-prod-scratch-bucket/o/ofk123%2Fdataset_alternative_2.zarr%2Fcolumns%2F.zarray?alt=media, (), {}\n",
      "2023-07-28 18:54:03,594 - gcsfs - DEBUG - _call -- POST: https://storage.googleapis.com/upload/storage/v1/b/pangeo-integration-te-3eea-prod-scratch-bucket/o, (), {'Content-Type': 'multipart/related; boundary=\"==0==\"'}\n",
      "2023-07-28 18:54:03,749 - gcsfs - DEBUG - _call -- POST: https://storage.googleapis.com/upload/storage/v1/b/pangeo-integration-te-3eea-prod-scratch-bucket/o, (), {'Content-Type': 'multipart/related; boundary=\"==0==\"'}\n",
      "2023-07-28 18:54:03,815 - gcsfs - DEBUG - _call -- GET: b/{}/o, ('pangeo-integration-te-3eea-prod-scratch-bucket',), None\n",
      "2023-07-28 18:54:03,849 - gcsfs - DEBUG - _call -- GET: https://storage.googleapis.com/download/storage/v1/b/pangeo-integration-te-3eea-prod-scratch-bucket/o/ofk123%2Fdataset_alternative_2.zarr%2F.zattrs?alt=media, (), {}\n",
      "2023-07-28 18:54:03,891 - gcsfs - DEBUG - _call -- GET: https://storage.googleapis.com/download/storage/v1/b/pangeo-integration-te-3eea-prod-scratch-bucket/o/ofk123%2Fdataset_alternative_2.zarr%2F.zgroup?alt=media, (), {}\n",
      "2023-07-28 18:54:03,920 - gcsfs - DEBUG - _call -- GET: https://storage.googleapis.com/download/storage/v1/b/pangeo-integration-te-3eea-prod-scratch-bucket/o/ofk123%2Fdataset_alternative_2.zarr%2FAnomArray%2F.zarray?alt=media, (), {}\n",
      "2023-07-28 18:54:03,960 - gcsfs - DEBUG - _call -- GET: https://storage.googleapis.com/download/storage/v1/b/pangeo-integration-te-3eea-prod-scratch-bucket/o/ofk123%2Fdataset_alternative_2.zarr%2FAnomArray%2F.zattrs?alt=media, (), {}\n",
      "2023-07-28 18:54:03,996 - gcsfs - DEBUG - _call -- GET: https://storage.googleapis.com/download/storage/v1/b/pangeo-integration-te-3eea-prod-scratch-bucket/o/ofk123%2Fdataset_alternative_2.zarr%2Fcolumns%2F.zarray?alt=media, (), {}\n",
      "2023-07-28 18:54:04,024 - gcsfs - DEBUG - _call -- GET: https://storage.googleapis.com/download/storage/v1/b/pangeo-integration-te-3eea-prod-scratch-bucket/o/ofk123%2Fdataset_alternative_2.zarr%2Fcolumns%2F.zattrs?alt=media, (), {}\n",
      "2023-07-28 18:54:04,063 - gcsfs - DEBUG - _call -- GET: https://storage.googleapis.com/download/storage/v1/b/pangeo-integration-te-3eea-prod-scratch-bucket/o/ofk123%2Fdataset_alternative_2.zarr%2Fi%2F.zarray?alt=media, (), {}\n",
      "2023-07-28 18:54:04,105 - gcsfs - DEBUG - _call -- GET: https://storage.googleapis.com/download/storage/v1/b/pangeo-integration-te-3eea-prod-scratch-bucket/o/ofk123%2Fdataset_alternative_2.zarr%2Fi%2F.zattrs?alt=media, (), {}\n",
      "2023-07-28 18:54:04,142 - gcsfs - DEBUG - _call -- POST: https://storage.googleapis.com/upload/storage/v1/b/pangeo-integration-te-3eea-prod-scratch-bucket/o, (), {'Content-Type': 'multipart/related; boundary=\"==0==\"'}\n",
      "2023-07-28 18:54:04,236 - gcsfs - DEBUG - _call -- GET: https://storage.googleapis.com/download/storage/v1/b/pangeo-integration-te-3eea-prod-scratch-bucket/o/ofk123%2Fdataset_alternative_2.zarr%2F.zmetadata?alt=media, (), {}\n"
     ]
    },
    {
     "data": {
      "text/plain": [
       "<xarray.backends.zarr.ZarrStore at 0x7f6fc0055620>"
      ]
     },
     "execution_count": 97,
     "metadata": {},
     "output_type": "execute_result"
    }
   ],
   "source": [
    "ds = xr.Dataset(\n",
    "    data_vars = dict(\n",
    "        AnomArray = ( [\"i\", \"columns\"], AnomArray ),\n",
    "    ),\n",
    "    coords=dict(\n",
    "        columns = ([\"columns\"],np.arange(4) ),\n",
    "        i = ([\"i\"], np.arange(n) ),\n",
    "    ),\n",
    "    attrs=dict(\n",
    "        description = 'Description',\n",
    "        pindex = 4,\n",
    "        number_of_harmonics = 2,\n",
    "        window_size = 500e3,\n",
    "        creation_date = str( datetime.now() )\n",
    "    ),\n",
    ")\n",
    "\n",
    "ds.AnomArray.attrs[\"standard_name\"] = 'Array of anomalies, time, latitude, longitude'\n",
    "ds.AnomArray.attrs[\"units\"] = 'm^2/s^2'\n",
    "\n",
    "dsc = ds.chunk()\n",
    "path_to_zarrstore = f'{SCRATCH_BUCKET}/dataset_alternative_2.zarr'\n",
    "mapper_alt1 = gcs.get_mapper(path_to_zarrstore)\n",
    "dsc.to_zarr(mapper_alt1, consolidated=True)"
   ]
  },
  {
   "cell_type": "code",
   "execution_count": 98,
   "metadata": {},
   "outputs": [
    {
     "data": {
      "text/plain": [
       "<bound method Dataset.info of <xarray.Dataset>\n",
       "Dimensions:    (i: 2105319, columns: 4)\n",
       "Coordinates:\n",
       "  * columns    (columns) int64 0 1 2 3\n",
       "  * i          (i) int64 0 1 2 3 4 5 ... 2105314 2105315 2105316 2105317 2105318\n",
       "Data variables:\n",
       "    AnomArray  (i, columns) float64 dask.array<chunksize=(2105319, 4), meta=np.ndarray>\n",
       "Attributes:\n",
       "    description:          Description\n",
       "    pindex:               4\n",
       "    number_of_harmonics:  2\n",
       "    window_size:          500000.0\n",
       "    creation_date:        2023-07-28 18:53:59.269384>"
      ]
     },
     "execution_count": 98,
     "metadata": {},
     "output_type": "execute_result"
    }
   ],
   "source": [
    "dsc.info"
   ]
  },
  {
   "cell_type": "markdown",
   "metadata": {
    "tags": []
   },
   "source": [
    "#### Size of each dataset in megabytes"
   ]
  },
  {
   "cell_type": "code",
   "execution_count": 99,
   "metadata": {},
   "outputs": [
    {
     "data": {
      "text/plain": [
       "84.212792"
      ]
     },
     "execution_count": 99,
     "metadata": {},
     "output_type": "execute_result"
    }
   ],
   "source": [
    "dsc.nbytes/1e6"
   ]
  },
  {
   "cell_type": "markdown",
   "metadata": {
    "tags": []
   },
   "source": [
    "### Connect to a dask-cluster and set cluster-options"
   ]
  },
  {
   "cell_type": "code",
   "execution_count": 41,
   "metadata": {},
   "outputs": [
    {
     "data": {
      "text/plain": [
       "[]"
      ]
     },
     "execution_count": 41,
     "metadata": {},
     "output_type": "execute_result"
    }
   ],
   "source": [
    "from dask_gateway import GatewayCluster, Gateway\n",
    "from distributed import Client\n",
    "\n",
    "g = Gateway()\n",
    "g.list_clusters()"
   ]
  },
  {
   "cell_type": "code",
   "execution_count": 42,
   "metadata": {},
   "outputs": [],
   "source": [
    "#cluster = g.connect(g.list_clusters()[0].name)"
   ]
  },
  {
   "cell_type": "code",
   "execution_count": 43,
   "metadata": {},
   "outputs": [],
   "source": [
    "options = g.cluster_options()\n",
    "options.worker_cores = 2; options.worker_memory = 4\n",
    "# Create a cluster with those options\n",
    "cluster = g.new_cluster(options)"
   ]
  },
  {
   "cell_type": "code",
   "execution_count": 44,
   "metadata": {},
   "outputs": [],
   "source": [
    "#g.list_clusters()"
   ]
  },
  {
   "cell_type": "code",
   "execution_count": 45,
   "metadata": {},
   "outputs": [
    {
     "data": {
      "text/html": [
       "<div>\n",
       "    <div style=\"width: 24px; height: 24px; background-color: #e1e1e1; border: 3px solid #9D9D9D; border-radius: 5px; position: absolute;\"> </div>\n",
       "    <div style=\"margin-left: 48px;\">\n",
       "        <h3 style=\"margin-bottom: 0px;\">Client</h3>\n",
       "        <p style=\"color: #9D9D9D; margin-bottom: 0px;\">Client-af0952da-2d73-11ee-815a-d21e5dfbd95d</p>\n",
       "        <table style=\"width: 100%; text-align: left;\">\n",
       "\n",
       "        <tr>\n",
       "        \n",
       "            <td style=\"text-align: left;\"><strong>Connection method:</strong> Cluster object</td>\n",
       "            <td style=\"text-align: left;\"><strong>Cluster type:</strong> dask_gateway.GatewayCluster</td>\n",
       "        \n",
       "        </tr>\n",
       "\n",
       "        \n",
       "            <tr>\n",
       "                <td style=\"text-align: left;\">\n",
       "                    <strong>Dashboard: </strong> <a href=\"/services/dask-gateway/clusters/prod.a620d415e99a4baeb11b99022a40a5bc/status\" target=\"_blank\">/services/dask-gateway/clusters/prod.a620d415e99a4baeb11b99022a40a5bc/status</a>\n",
       "                </td>\n",
       "                <td style=\"text-align: left;\"></td>\n",
       "            </tr>\n",
       "        \n",
       "\n",
       "        </table>\n",
       "\n",
       "        \n",
       "            <button style=\"margin-bottom: 12px;\" data-commandlinker-command=\"dask:populate-and-launch-layout\" data-commandlinker-args='{\"url\": \"/services/dask-gateway/clusters/prod.a620d415e99a4baeb11b99022a40a5bc/status\" }'>\n",
       "                Launch dashboard in JupyterLab\n",
       "            </button>\n",
       "        \n",
       "\n",
       "        \n",
       "            <details>\n",
       "            <summary style=\"margin-bottom: 20px;\"><h3 style=\"display: inline;\">Cluster Info</h3></summary>\n",
       "            <div style='background-color: #f2f2f2; display: inline-block; padding: 10px; border: 1px solid #999999;'>\n",
       "  <h3>GatewayCluster</h3>\n",
       "  <ul>\n",
       "    <li><b>Name: </b>prod.a620d415e99a4baeb11b99022a40a5bc\n",
       "    <li><b>Dashboard: </b><a href='/services/dask-gateway/clusters/prod.a620d415e99a4baeb11b99022a40a5bc/status' target='_blank'>/services/dask-gateway/clusters/prod.a620d415e99a4baeb11b99022a40a5bc/status</a>\n",
       "  </ul>\n",
       "</div>\n",
       "\n",
       "            </details>\n",
       "        \n",
       "\n",
       "    </div>\n",
       "</div>"
      ],
      "text/plain": [
       "<Client: 'tls://10.9.46.4:8786' processes=0 threads=0, memory=0 B>"
      ]
     },
     "execution_count": 45,
     "metadata": {},
     "output_type": "execute_result"
    }
   ],
   "source": [
    "client = Client(cluster)\n",
    "client"
   ]
  },
  {
   "cell_type": "code",
   "execution_count": 64,
   "metadata": {},
   "outputs": [],
   "source": [
    "cluster.scale(1)"
   ]
  },
  {
   "cell_type": "markdown",
   "metadata": {
    "tags": []
   },
   "source": [
    "### Loading of data from cloud-storage<br>\n",
    "Want to load 4 out of 5 columns of data, into several dask-workers memory, and do embarrasingly parallel computations ( ~1e6  )."
   ]
  },
  {
   "cell_type": "markdown",
   "metadata": {},
   "source": [
    "Loading data only:"
   ]
  },
  {
   "cell_type": "code",
   "execution_count": 128,
   "metadata": {},
   "outputs": [],
   "source": [
    "@dask.delayed\n",
    "def load_chunksauto(mapper):\n",
    "    \"\"\"Load data from zarr-store into worker-memory\"\"\"\n",
    "    \n",
    "    ds = xr.open_zarr(mapper, consolidated=True, chunks='auto') \n",
    "    data0 = ds.AnomArray.load().values\n",
    "    ii = ~xr.apply_ufunc(np.isnan, data0[:,0])\n",
    "    data, time, lat, lon = data0[ii,0], data0[ii,1],data0[ii,2], data0[ii,3]\n",
    "    \n",
    "    # Calculation using data-, lat-, lon-, and time-arrays\n",
    "    #\n",
    "    #\n",
    "    #\n",
    "    return None"
   ]
  },
  {
   "cell_type": "code",
   "execution_count": 129,
   "metadata": {},
   "outputs": [],
   "source": [
    "@dask.delayed\n",
    "def load_zarr(mapper):\n",
    "    \"\"\"Load data from zarr-store into worker-memory\"\"\"\n",
    "    \n",
    "    z = zarr.open_consolidated(mapper)\n",
    "    data0 = z.AnomArray[:] \n",
    "    ii = ~np.isnan(data0[:,0])\n",
    "    data, time, lat, lon = data0[ii,0], data0[ii,1],data0[ii,2], data0[ii,3]\n",
    "    \n",
    "    # Calculation using data-, lat-, lon-, and time-arrays\n",
    "    #\n",
    "    #\n",
    "    #\n",
    "    return None"
   ]
  },
  {
   "cell_type": "code",
   "execution_count": 130,
   "metadata": {},
   "outputs": [],
   "source": [
    "@dask.delayed\n",
    "def load_zarr_convenience(mapper): \n",
    "    \"\"\"Load data from zarr-store into worker-memory\"\"\"\n",
    "    \n",
    "    z = zarr.convenience.open_consolidated(mapper)\n",
    "    data0 = z.AnomArray[:] \n",
    "    ii = ~np.isnan(data0[:,0])\n",
    "    data, time, lat, lon = data0[ii,0], data0[ii,1],data0[ii,2], data0[ii,3]\n",
    "    \n",
    "    # Calculation using data-, lat-, lon-, and time-arrays\n",
    "    #\n",
    "    #\n",
    "    #\n",
    "    return None"
   ]
  },
  {
   "cell_type": "markdown",
   "metadata": {
    "tags": []
   },
   "source": [
    "### Timing loading of data:<br>"
   ]
  },
  {
   "cell_type": "markdown",
   "metadata": {},
   "source": [
    "<br>\n",
    "ds = xr.open_zarr(mapper, consolidated=True, chunks='auto'); ...  "
   ]
  },
  {
   "cell_type": "code",
   "execution_count": 131,
   "metadata": {},
   "outputs": [
    {
     "name": "stdout",
     "output_type": "stream",
     "text": [
      "1.82 s ± 99.1 ms per loop (mean ± std. dev. of 7 runs, 1 loop each)\n"
     ]
    }
   ],
   "source": [
    "%timeit dask.compute( load_chunksauto(mapper_alt1) )[0]"
   ]
  },
  {
   "cell_type": "markdown",
   "metadata": {},
   "source": [
    "<br>\n",
    "ds = zarr.open_consolidated(mapper); ... "
   ]
  },
  {
   "cell_type": "code",
   "execution_count": 132,
   "metadata": {},
   "outputs": [
    {
     "name": "stdout",
     "output_type": "stream",
     "text": [
      "713 ms ± 23.3 ms per loop (mean ± std. dev. of 7 runs, 1 loop each)\n"
     ]
    }
   ],
   "source": [
    "%timeit dask.compute( load_zarr(mapper_alt1) )[0]"
   ]
  },
  {
   "cell_type": "markdown",
   "metadata": {},
   "source": [
    "<br>\n",
    "ds = zarr.convenience.open_consolidated(mapper); ... "
   ]
  },
  {
   "cell_type": "code",
   "execution_count": 133,
   "metadata": {},
   "outputs": [
    {
     "name": "stdout",
     "output_type": "stream",
     "text": [
      "711 ms ± 34.5 ms per loop (mean ± std. dev. of 7 runs, 1 loop each)\n"
     ]
    }
   ],
   "source": [
    "%timeit dask.compute( load_zarr_convenience(mapper_alt1) )[0]"
   ]
  },
  {
   "cell_type": "markdown",
   "metadata": {},
   "source": [
    "#### Scaling down and closing cluster"
   ]
  },
  {
   "cell_type": "code",
   "execution_count": 138,
   "metadata": {},
   "outputs": [],
   "source": [
    "cluster.scale(0)"
   ]
  },
  {
   "cell_type": "code",
   "execution_count": 139,
   "metadata": {},
   "outputs": [],
   "source": [
    "cluster.close()"
   ]
  },
  {
   "cell_type": "code",
   "execution_count": 140,
   "metadata": {},
   "outputs": [],
   "source": [
    "cluster.shutdown()"
   ]
  },
  {
   "cell_type": "markdown",
   "metadata": {},
   "source": [
    "### The reports from the logger\n",
    "(I am not sure if these look the same for the dask-workers):"
   ]
  },
  {
   "cell_type": "code",
   "execution_count": 82,
   "metadata": {},
   "outputs": [
    {
     "data": {
      "text/plain": [
       "<Logger gcsfs (DEBUG)>"
      ]
     },
     "execution_count": 82,
     "metadata": {},
     "output_type": "execute_result"
    }
   ],
   "source": [
    "import fsspec.utils\n",
    "fsspec.utils.setup_logging(logger_name=\"gcsfs\")"
   ]
  },
  {
   "cell_type": "code",
   "execution_count": 134,
   "metadata": {},
   "outputs": [
    {
     "name": "stderr",
     "output_type": "stream",
     "text": [
      "2023-07-28 19:03:03,098 - gcsfs - DEBUG - _call -- GET: https://storage.googleapis.com/download/storage/v1/b/pangeo-integration-te-3eea-prod-scratch-bucket/o/ofk123%2Fdataset_alternative_2.zarr%2F.zmetadata?alt=media, (), {}\n",
      "2023-07-28 19:03:03,203 - gcsfs - DEBUG - _call -- GET: https://storage.googleapis.com/download/storage/v1/b/pangeo-integration-te-3eea-prod-scratch-bucket/o/ofk123%2Fdataset_alternative_2.zarr%2Fcolumns%2F0?alt=media, (), {}\n",
      "2023-07-28 19:03:03,251 - gcsfs - DEBUG - _call -- GET: https://storage.googleapis.com/download/storage/v1/b/pangeo-integration-te-3eea-prod-scratch-bucket/o/ofk123%2Fdataset_alternative_2.zarr%2Fi%2F0?alt=media, (), {}\n",
      "2023-07-28 19:03:03,334 - gcsfs - DEBUG - _call -- GET: https://storage.googleapis.com/download/storage/v1/b/pangeo-integration-te-3eea-prod-scratch-bucket/o/ofk123%2Fdataset_alternative_2.zarr%2Fi%2F1?alt=media, (), {}\n",
      "2023-07-28 19:03:03,373 - gcsfs - DEBUG - _call -- GET: https://storage.googleapis.com/download/storage/v1/b/pangeo-integration-te-3eea-prod-scratch-bucket/o/ofk123%2Fdataset_alternative_2.zarr%2Fi%2F2?alt=media, (), {}\n",
      "2023-07-28 19:03:03,433 - gcsfs - DEBUG - _call -- GET: https://storage.googleapis.com/download/storage/v1/b/pangeo-integration-te-3eea-prod-scratch-bucket/o/ofk123%2Fdataset_alternative_2.zarr%2Fi%2F3?alt=media, (), {}\n",
      "2023-07-28 19:03:03,500 - gcsfs - DEBUG - _call -- GET: https://storage.googleapis.com/download/storage/v1/b/pangeo-integration-te-3eea-prod-scratch-bucket/o/ofk123%2Fdataset_alternative_2.zarr%2Fi%2F4?alt=media, (), {}\n",
      "2023-07-28 19:03:03,528 - gcsfs - DEBUG - _call -- GET: https://storage.googleapis.com/download/storage/v1/b/pangeo-integration-te-3eea-prod-scratch-bucket/o/ofk123%2Fdataset_alternative_2.zarr%2Fi%2F5?alt=media, (), {}\n",
      "2023-07-28 19:03:03,626 - gcsfs - DEBUG - _call -- GET: https://storage.googleapis.com/download/storage/v1/b/pangeo-integration-te-3eea-prod-scratch-bucket/o/ofk123%2Fdataset_alternative_2.zarr%2Fi%2F6?alt=media, (), {}\n",
      "2023-07-28 19:03:03,670 - gcsfs - DEBUG - _call -- GET: https://storage.googleapis.com/download/storage/v1/b/pangeo-integration-te-3eea-prod-scratch-bucket/o/ofk123%2Fdataset_alternative_2.zarr%2Fi%2F7?alt=media, (), {}\n",
      "2023-07-28 19:03:03,701 - gcsfs - DEBUG - _call -- GET: https://storage.googleapis.com/download/storage/v1/b/pangeo-integration-te-3eea-prod-scratch-bucket/o/ofk123%2Fdataset_alternative_2.zarr%2Fi%2F8?alt=media, (), {}\n",
      "2023-07-28 19:03:03,754 - gcsfs - DEBUG - _call -- GET: https://storage.googleapis.com/download/storage/v1/b/pangeo-integration-te-3eea-prod-scratch-bucket/o/ofk123%2Fdataset_alternative_2.zarr%2Fi%2F9?alt=media, (), {}\n",
      "2023-07-28 19:03:03,793 - gcsfs - DEBUG - _call -- GET: https://storage.googleapis.com/download/storage/v1/b/pangeo-integration-te-3eea-prod-scratch-bucket/o/ofk123%2Fdataset_alternative_2.zarr%2Fi%2F10?alt=media, (), {}\n",
      "2023-07-28 19:03:03,826 - gcsfs - DEBUG - _call -- GET: https://storage.googleapis.com/download/storage/v1/b/pangeo-integration-te-3eea-prod-scratch-bucket/o/ofk123%2Fdataset_alternative_2.zarr%2Fi%2F11?alt=media, (), {}\n",
      "2023-07-28 19:03:03,874 - gcsfs - DEBUG - _call -- GET: https://storage.googleapis.com/download/storage/v1/b/pangeo-integration-te-3eea-prod-scratch-bucket/o/ofk123%2Fdataset_alternative_2.zarr%2Fi%2F12?alt=media, (), {}\n",
      "2023-07-28 19:03:03,902 - gcsfs - DEBUG - _call -- GET: https://storage.googleapis.com/download/storage/v1/b/pangeo-integration-te-3eea-prod-scratch-bucket/o/ofk123%2Fdataset_alternative_2.zarr%2Fi%2F13?alt=media, (), {}\n",
      "2023-07-28 19:03:03,942 - gcsfs - DEBUG - _call -- GET: https://storage.googleapis.com/download/storage/v1/b/pangeo-integration-te-3eea-prod-scratch-bucket/o/ofk123%2Fdataset_alternative_2.zarr%2Fi%2F14?alt=media, (), {}\n",
      "2023-07-28 19:03:03,997 - gcsfs - DEBUG - _call -- GET: https://storage.googleapis.com/download/storage/v1/b/pangeo-integration-te-3eea-prod-scratch-bucket/o/ofk123%2Fdataset_alternative_2.zarr%2Fi%2F15?alt=media, (), {}\n",
      "2023-07-28 19:03:04,052 - gcsfs - DEBUG - _call -- GET: https://storage.googleapis.com/download/storage/v1/b/pangeo-integration-te-3eea-prod-scratch-bucket/o/ofk123%2Fdataset_alternative_2.zarr%2Fi%2F16?alt=media, (), {}\n",
      "2023-07-28 19:03:04,082 - gcsfs - DEBUG - _call -- GET: https://storage.googleapis.com/download/storage/v1/b/pangeo-integration-te-3eea-prod-scratch-bucket/o/ofk123%2Fdataset_alternative_2.zarr%2Fi%2F17?alt=media, (), {}\n",
      "2023-07-28 19:03:04,112 - gcsfs - DEBUG - _call -- GET: https://storage.googleapis.com/download/storage/v1/b/pangeo-integration-te-3eea-prod-scratch-bucket/o/ofk123%2Fdataset_alternative_2.zarr%2Fi%2F18?alt=media, (), {}\n",
      "2023-07-28 19:03:04,165 - gcsfs - DEBUG - _call -- GET: https://storage.googleapis.com/download/storage/v1/b/pangeo-integration-te-3eea-prod-scratch-bucket/o/ofk123%2Fdataset_alternative_2.zarr%2Fi%2F19?alt=media, (), {}\n",
      "2023-07-28 19:03:04,199 - gcsfs - DEBUG - _call -- GET: https://storage.googleapis.com/download/storage/v1/b/pangeo-integration-te-3eea-prod-scratch-bucket/o/ofk123%2Fdataset_alternative_2.zarr%2Fi%2F20?alt=media, (), {}\n",
      "2023-07-28 19:03:04,229 - gcsfs - DEBUG - _call -- GET: https://storage.googleapis.com/download/storage/v1/b/pangeo-integration-te-3eea-prod-scratch-bucket/o/ofk123%2Fdataset_alternative_2.zarr%2Fi%2F21?alt=media, (), {}\n",
      "2023-07-28 19:03:04,258 - gcsfs - DEBUG - _call -- GET: https://storage.googleapis.com/download/storage/v1/b/pangeo-integration-te-3eea-prod-scratch-bucket/o/ofk123%2Fdataset_alternative_2.zarr%2Fi%2F22?alt=media, (), {}\n",
      "2023-07-28 19:03:04,292 - gcsfs - DEBUG - _call -- GET: https://storage.googleapis.com/download/storage/v1/b/pangeo-integration-te-3eea-prod-scratch-bucket/o/ofk123%2Fdataset_alternative_2.zarr%2Fi%2F23?alt=media, (), {}\n",
      "2023-07-28 19:03:04,324 - gcsfs - DEBUG - _call -- GET: https://storage.googleapis.com/download/storage/v1/b/pangeo-integration-te-3eea-prod-scratch-bucket/o/ofk123%2Fdataset_alternative_2.zarr%2Fi%2F24?alt=media, (), {}\n",
      "2023-07-28 19:03:04,368 - gcsfs - DEBUG - _call -- GET: https://storage.googleapis.com/download/storage/v1/b/pangeo-integration-te-3eea-prod-scratch-bucket/o/ofk123%2Fdataset_alternative_2.zarr%2Fi%2F25?alt=media, (), {}\n",
      "2023-07-28 19:03:04,413 - gcsfs - DEBUG - _call -- GET: https://storage.googleapis.com/download/storage/v1/b/pangeo-integration-te-3eea-prod-scratch-bucket/o/ofk123%2Fdataset_alternative_2.zarr%2Fi%2F26?alt=media, (), {}\n",
      "2023-07-28 19:03:04,459 - gcsfs - DEBUG - _call -- GET: https://storage.googleapis.com/download/storage/v1/b/pangeo-integration-te-3eea-prod-scratch-bucket/o/ofk123%2Fdataset_alternative_2.zarr%2Fi%2F27?alt=media, (), {}\n",
      "2023-07-28 19:03:04,508 - gcsfs - DEBUG - _call -- GET: https://storage.googleapis.com/download/storage/v1/b/pangeo-integration-te-3eea-prod-scratch-bucket/o/ofk123%2Fdataset_alternative_2.zarr%2Fi%2F28?alt=media, (), {}\n",
      "2023-07-28 19:03:04,538 - gcsfs - DEBUG - _call -- GET: https://storage.googleapis.com/download/storage/v1/b/pangeo-integration-te-3eea-prod-scratch-bucket/o/ofk123%2Fdataset_alternative_2.zarr%2Fi%2F29?alt=media, (), {}\n",
      "2023-07-28 19:03:04,583 - gcsfs - DEBUG - _call -- GET: https://storage.googleapis.com/download/storage/v1/b/pangeo-integration-te-3eea-prod-scratch-bucket/o/ofk123%2Fdataset_alternative_2.zarr%2Fi%2F30?alt=media, (), {}\n",
      "2023-07-28 19:03:04,631 - gcsfs - DEBUG - _call -- GET: https://storage.googleapis.com/download/storage/v1/b/pangeo-integration-te-3eea-prod-scratch-bucket/o/ofk123%2Fdataset_alternative_2.zarr%2Fi%2F31?alt=media, (), {}\n"
     ]
    }
   ],
   "source": [
    "ds = xr.open_zarr(mapper_alt1, consolidated=True, chunks='auto') \n",
    "data0 = ds.AnomArray.load().values\n",
    "ii = ~xr.apply_ufunc(np.isnan, data0)\n",
    "ii = ii[:,0]\n",
    "data, time, lat, lon = data0[ii,0], data0[ii,1],data0[ii,2], data0[ii,3]"
   ]
  },
  {
   "cell_type": "code",
   "execution_count": 135,
   "metadata": {},
   "outputs": [
    {
     "name": "stderr",
     "output_type": "stream",
     "text": [
      "2023-07-28 19:03:08,002 - gcsfs - DEBUG - _call -- GET: https://storage.googleapis.com/download/storage/v1/b/pangeo-integration-te-3eea-prod-scratch-bucket/o/ofk123%2Fdataset_alternative_2.zarr%2F.zmetadata?alt=media, (), {}\n",
      "2023-07-28 19:03:08,027 - gcsfs - DEBUG - _call -- GET: https://storage.googleapis.com/download/storage/v1/b/pangeo-integration-te-3eea-prod-scratch-bucket/o/ofk123%2Fdataset_alternative_2.zarr%2FAnomArray%2F0.0?alt=media, (), {}\n"
     ]
    }
   ],
   "source": [
    "z = zarr.open_consolidated(mapper_alt1)\n",
    "data0 = z.AnomArray[:] \n",
    "ii = ~np.isnan(data0[:,0])\n",
    "data, time, lat, lon = data0[ii,0], data0[ii,1],data0[ii,2], data0[ii,3]"
   ]
  },
  {
   "cell_type": "code",
   "execution_count": 137,
   "metadata": {},
   "outputs": [
    {
     "name": "stderr",
     "output_type": "stream",
     "text": [
      "2023-07-28 19:03:15,018 - gcsfs - DEBUG - _call -- GET: https://storage.googleapis.com/download/storage/v1/b/pangeo-integration-te-3eea-prod-scratch-bucket/o/ofk123%2Fdataset_alternative_2.zarr%2F.zmetadata?alt=media, (), {}\n",
      "2023-07-28 19:03:15,053 - gcsfs - DEBUG - _call -- GET: https://storage.googleapis.com/download/storage/v1/b/pangeo-integration-te-3eea-prod-scratch-bucket/o/ofk123%2Fdataset_alternative_2.zarr%2FAnomArray%2F0.0?alt=media, (), {}\n"
     ]
    }
   ],
   "source": [
    "z = zarr.convenience.open_consolidated(mapper_alt1)\n",
    "data0 = z.AnomArray[:] \n",
    "ii = ~np.isnan(data0[:,0])\n",
    "data, time, lat, lon = data0[ii,0], data0[ii,1],data0[ii,2], data0[ii,3]"
   ]
  },
  {
   "cell_type": "code",
   "execution_count": null,
   "metadata": {},
   "outputs": [],
   "source": []
  }
 ],
 "metadata": {
  "kernelspec": {
   "display_name": "Python 3 (ipykernel)",
   "language": "python",
   "name": "python3"
  },
  "language_info": {
   "codemirror_mode": {
    "name": "ipython",
    "version": 3
   },
   "file_extension": ".py",
   "mimetype": "text/x-python",
   "name": "python",
   "nbconvert_exporter": "python",
   "pygments_lexer": "ipython3",
   "version": "3.10.8"
  }
 },
 "nbformat": 4,
 "nbformat_minor": 4
}
