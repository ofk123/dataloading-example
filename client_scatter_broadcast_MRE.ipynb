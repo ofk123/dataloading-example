{
 "cells": [
  {
   "cell_type": "code",
   "execution_count": 1,
   "id": "38651502-711c-4181-90d4-3ff3ffa73036",
   "metadata": {},
   "outputs": [],
   "source": [
    "import json\n",
    "import gcsfs\n",
    "\n",
    "with open('pangeo-181919-e7bc5bdaf4d5.json') as f:\n",
    "    token = json.load(f)\n",
    "gcs = gcsfs.GCSFileSystem(token=token)"
   ]
  },
  {
   "cell_type": "code",
   "execution_count": 2,
   "id": "72b0ac8d-f5f2-45e3-9903-0f3717ce251b",
   "metadata": {},
   "outputs": [
    {
     "data": {
      "text/plain": [
       "[]"
      ]
     },
     "execution_count": 2,
     "metadata": {},
     "output_type": "execute_result"
    }
   ],
   "source": [
    "from dask_gateway import GatewayCluster, Gateway\n",
    "from distributed import Client\n",
    "g = Gateway()\n",
    "g.list_clusters()"
   ]
  },
  {
   "cell_type": "code",
   "execution_count": 3,
   "id": "0fef069d-40db-45b0-981e-914b1ebde9c2",
   "metadata": {},
   "outputs": [],
   "source": [
    "#cluster = g.connect(g.list_clusters()[0].name)"
   ]
  },
  {
   "cell_type": "code",
   "execution_count": 4,
   "id": "705b6ece-a063-4ca9-ae00-bcd95ad36c36",
   "metadata": {},
   "outputs": [],
   "source": [
    "options = g.cluster_options()\n",
    "options.worker_cores = 2; options.worker_memory = 4\n",
    "# Create a cluster with those options\n",
    "cluster = g.new_cluster(options)"
   ]
  },
  {
   "cell_type": "code",
   "execution_count": 5,
   "id": "14f6bbc3-261c-4aad-ac03-5a97b9545ba9",
   "metadata": {},
   "outputs": [
    {
     "data": {
      "text/plain": [
       "[ClusterReport<name=prod.8dadd183606e4c6e890d7dde4fd0f9fa, status=RUNNING>]"
      ]
     },
     "execution_count": 5,
     "metadata": {},
     "output_type": "execute_result"
    }
   ],
   "source": [
    "g.list_clusters()"
   ]
  },
  {
   "cell_type": "code",
   "execution_count": 6,
   "id": "1b2b64c1-bb86-4a52-9f98-0a9e994fec33",
   "metadata": {},
   "outputs": [
    {
     "data": {
      "text/html": [
       "<div>\n",
       "    <div style=\"width: 24px; height: 24px; background-color: #e1e1e1; border: 3px solid #9D9D9D; border-radius: 5px; position: absolute;\"> </div>\n",
       "    <div style=\"margin-left: 48px;\">\n",
       "        <h3 style=\"margin-bottom: 0px;\">Client</h3>\n",
       "        <p style=\"color: #9D9D9D; margin-bottom: 0px;\">Client-d7bc7b24-36bf-11ee-8172-7e2289070190</p>\n",
       "        <table style=\"width: 100%; text-align: left;\">\n",
       "\n",
       "        <tr>\n",
       "        \n",
       "            <td style=\"text-align: left;\"><strong>Connection method:</strong> Cluster object</td>\n",
       "            <td style=\"text-align: left;\"><strong>Cluster type:</strong> dask_gateway.GatewayCluster</td>\n",
       "        \n",
       "        </tr>\n",
       "\n",
       "        \n",
       "            <tr>\n",
       "                <td style=\"text-align: left;\">\n",
       "                    <strong>Dashboard: </strong> <a href=\"/services/dask-gateway/clusters/prod.8dadd183606e4c6e890d7dde4fd0f9fa/status\" target=\"_blank\">/services/dask-gateway/clusters/prod.8dadd183606e4c6e890d7dde4fd0f9fa/status</a>\n",
       "                </td>\n",
       "                <td style=\"text-align: left;\"></td>\n",
       "            </tr>\n",
       "        \n",
       "\n",
       "        </table>\n",
       "\n",
       "        \n",
       "            <button style=\"margin-bottom: 12px;\" data-commandlinker-command=\"dask:populate-and-launch-layout\" data-commandlinker-args='{\"url\": \"/services/dask-gateway/clusters/prod.8dadd183606e4c6e890d7dde4fd0f9fa/status\" }'>\n",
       "                Launch dashboard in JupyterLab\n",
       "            </button>\n",
       "        \n",
       "\n",
       "        \n",
       "            <details>\n",
       "            <summary style=\"margin-bottom: 20px;\"><h3 style=\"display: inline;\">Cluster Info</h3></summary>\n",
       "            <div style='background-color: #f2f2f2; display: inline-block; padding: 10px; border: 1px solid #999999;'>\n",
       "  <h3>GatewayCluster</h3>\n",
       "  <ul>\n",
       "    <li><b>Name: </b>prod.8dadd183606e4c6e890d7dde4fd0f9fa\n",
       "    <li><b>Dashboard: </b><a href='/services/dask-gateway/clusters/prod.8dadd183606e4c6e890d7dde4fd0f9fa/status' target='_blank'>/services/dask-gateway/clusters/prod.8dadd183606e4c6e890d7dde4fd0f9fa/status</a>\n",
       "  </ul>\n",
       "</div>\n",
       "\n",
       "            </details>\n",
       "        \n",
       "\n",
       "    </div>\n",
       "</div>"
      ],
      "text/plain": [
       "<Client: 'tls://10.8.0.4:8786' processes=0 threads=0, memory=0 B>"
      ]
     },
     "execution_count": 6,
     "metadata": {},
     "output_type": "execute_result"
    }
   ],
   "source": [
    "client = Client(cluster)\n",
    "client"
   ]
  },
  {
   "cell_type": "code",
   "execution_count": 7,
   "id": "00d6bf9b-fba9-46be-a946-24c494c60807",
   "metadata": {},
   "outputs": [],
   "source": [
    "cluster.scale(40)"
   ]
  },
  {
   "cell_type": "markdown",
   "id": "b42b108f-e752-4c35-bf43-199985dff7e8",
   "metadata": {},
   "source": [
    "### Define functions and start timing"
   ]
  },
  {
   "cell_type": "code",
   "execution_count": 8,
   "id": "d3542096-c05e-4710-ae85-503bbc249633",
   "metadata": {},
   "outputs": [],
   "source": [
    "import zarr, numpy as np, dask\n",
    "\n",
    "def load():\n",
    "    mapper = gcs.get_mapper(gcs.ls('pangeo-argo-eke/global/mean_and_anomalies/with_pressure_coordinate/readable_ws_and_NHarm/scattered_data_in_betaparamcomputation')[5])\n",
    "    z = zarr.open_consolidated(mapper)\n",
    "    data, lat, lon, time = z.Anomalies[:][:,0],z.latitude[:],z.longitude[:],z.time[:]    \n",
    "    return data, lat, lon, time\n",
    "\n",
    "@dask.delayed\n",
    "def function_load():\n",
    "    data, lat, lon, time = load()\n",
    "    ### Do computation with lat, lon, data, time    \n",
    "    return None\n",
    "\n",
    "@dask.delayed\n",
    "def function_scattered(data_scattered, lat_scattered, lon_scattered, time_scattered):\n",
    "    data, lat, lon, time = data_scattered, lat_scattered, lon_scattered, time_scattered\n",
    "    ### Do computation with lat, lon, data, time\n",
    "    return None\n",
    "\n",
    "data, lat, lon, time = load()"
   ]
  },
  {
   "cell_type": "markdown",
   "id": "52a7d799-f702-41e7-9760-9ef537852012",
   "metadata": {},
   "source": [
    "### The loaded data are numpy arrays of equal size stored as zarr (by first creating xarray dataset)"
   ]
  },
  {
   "cell_type": "code",
   "execution_count": 9,
   "id": "566a660c-79af-4527-a77a-444378cb1dc0",
   "metadata": {},
   "outputs": [
    {
     "name": "stdout",
     "output_type": "stream",
     "text": [
      "[dtype('float64'), dtype('float64'), dtype('float64'), dtype('float64')]\n"
     ]
    }
   ],
   "source": [
    "print([arr.dtype for arr in (data, lat,lon, time)])"
   ]
  },
  {
   "cell_type": "code",
   "execution_count": 10,
   "id": "06edcdff-1203-44b1-8bf2-4175fcd545fa",
   "metadata": {},
   "outputs": [
    {
     "data": {
      "image/png": "[encoded data removed]",
      "text/plain": [
       "<Figure size 1000x50 with 1 Axes>"
      ]
     },
     "metadata": {},
     "output_type": "display_data"
    },
    {
     "data": {
      "image/png": "[encoded data removed]",
      "text/plain": [
       "<Figure size 1000x50 with 1 Axes>"
      ]
     },
     "metadata": {},
     "output_type": "display_data"
    },
    {
     "data": {
      "image/png": "[encoded data removed]",
      "text/plain": [
       "<Figure size 1000x50 with 1 Axes>"
      ]
     },
     "metadata": {},
     "output_type": "display_data"
    },
    {
     "data": {
      "image/png": "[encoded data removed]",
      "text/plain": [
       "<Figure size 1000x50 with 1 Axes>"
      ]
     },
     "metadata": {},
     "output_type": "display_data"
    }
   ],
   "source": [
    "import matplotlib.pyplot as plt\n",
    "plt.figure(figsize=(10,0.5));plt.plot(data);plt.show();\n",
    "plt.figure(figsize=(10,0.5));plt.plot(lat);plt.show()\n",
    "plt.figure(figsize=(10,0.5));plt.plot(lon);plt.show()\n",
    "plt.figure(figsize=(10,0.5));plt.plot(time);plt.show()"
   ]
  },
  {
   "cell_type": "markdown",
   "id": "253d1515-3625-4e1b-92cb-25e65134def4",
   "metadata": {},
   "source": [
    "Scatter data beforehand:"
   ]
  },
  {
   "cell_type": "code",
   "execution_count": 13,
   "id": "36425077-10f8-448d-8e35-c8d0c424452b",
   "metadata": {},
   "outputs": [],
   "source": [
    "data_scat,lat_scat,lon_scat,time_scat = client.scatter(data),client.scatter(lat),client.scatter(lon),client.scatter(time)"
   ]
  },
  {
   "cell_type": "code",
   "execution_count": 14,
   "id": "b9b34423-306d-41f3-bd73-373f45d3f1b9",
   "metadata": {},
   "outputs": [
    {
     "data": {
      "text/html": [
       "<table>\n",
       "    <tr>\n",
       "        <th>Key</th>\n",
       "        <th>Copies</th>\n",
       "        <th>Workers</th>\n",
       "    </tr>\n",
       "\n",
       "    \n",
       "    <tr>\n",
       "        <td>ndarray-6d237d7cdc3ba10469a945ee0aa0097f</td>\n",
       "        <td>1</td>\n",
       "        <td>tls://10.8.5.4:44793</td>\n",
       "    </tr>\n",
       "    \n",
       "    <tr>\n",
       "        <td>ndarray-7ae0dceb1250d81d27e358cbc499962e</td>\n",
       "        <td>1</td>\n",
       "        <td>tls://10.8.5.4:44793</td>\n",
       "    </tr>\n",
       "    \n",
       "    <tr>\n",
       "        <td>ndarray-a0de17639c98fe9b5b41d3c6886d76fe</td>\n",
       "        <td>1</td>\n",
       "        <td>tls://10.8.6.3:37893</td>\n",
       "    </tr>\n",
       "    \n",
       "    <tr>\n",
       "        <td>ndarray-46f31d62d0649b9a2c98ac1e49d9a144</td>\n",
       "        <td>1</td>\n",
       "        <td>tls://10.8.6.5:34287</td>\n",
       "    </tr>\n",
       "    \n",
       "</table>"
      ],
      "text/plain": [
       "{'ndarray-6d237d7cdc3ba10469a945ee0aa0097f': ('tls://10.8.5.4:44793',),\n",
       " 'ndarray-7ae0dceb1250d81d27e358cbc499962e': ('tls://10.8.5.4:44793',),\n",
       " 'ndarray-a0de17639c98fe9b5b41d3c6886d76fe': ('tls://10.8.6.3:37893',),\n",
       " 'ndarray-46f31d62d0649b9a2c98ac1e49d9a144': ('tls://10.8.6.5:34287',)}"
      ]
     },
     "execution_count": 14,
     "metadata": {},
     "output_type": "execute_result"
    }
   ],
   "source": [
    "client.who_has()"
   ]
  },
  {
   "cell_type": "markdown",
   "id": "8204c8a9-2bc0-427b-8b32-6da29b445235",
   "metadata": {},
   "source": [
    "Scatter data with 'broadcast=True' :"
   ]
  },
  {
   "cell_type": "code",
   "execution_count": 15,
   "id": "cd55a37e-1918-4033-9c00-4dff6af925df",
   "metadata": {},
   "outputs": [],
   "source": [
    "data_bcast, lat_bcast, lon_bcast, time_bcast = client.scatter(data, broadcast=True), client.scatter(lat, broadcast=True), client.scatter(lon, broadcast=True), client.scatter(time, broadcast=True)"
   ]
  },
  {
   "cell_type": "code",
   "execution_count": 16,
   "id": "82d87c4f-2712-43b3-8d0e-1f8c3d8f5fac",
   "metadata": {},
   "outputs": [
    {
     "data": {
      "text/html": [
       "<table>\n",
       "    <tr>\n",
       "        <th>Key</th>\n",
       "        <th>Copies</th>\n",
       "        <th>Workers</th>\n",
       "    </tr>\n",
       "\n",
       "    \n",
       "    <tr>\n",
       "        <td>ndarray-6d237d7cdc3ba10469a945ee0aa0097f</td>\n",
       "        <td>1</td>\n",
       "        <td>tls://10.8.7.5:35141</td>\n",
       "    </tr>\n",
       "    \n",
       "    <tr>\n",
       "        <td>ndarray-7ae0dceb1250d81d27e358cbc499962e</td>\n",
       "        <td>1</td>\n",
       "        <td>tls://10.8.12.5:45141</td>\n",
       "    </tr>\n",
       "    \n",
       "    <tr>\n",
       "        <td>ndarray-a0de17639c98fe9b5b41d3c6886d76fe</td>\n",
       "        <td>1</td>\n",
       "        <td>tls://10.8.7.3:34321</td>\n",
       "    </tr>\n",
       "    \n",
       "    <tr>\n",
       "        <td>ndarray-46f31d62d0649b9a2c98ac1e49d9a144</td>\n",
       "        <td>1</td>\n",
       "        <td>tls://10.8.6.5:34287</td>\n",
       "    </tr>\n",
       "    \n",
       "</table>"
      ],
      "text/plain": [
       "{'ndarray-6d237d7cdc3ba10469a945ee0aa0097f': ('tls://10.8.7.5:35141',),\n",
       " 'ndarray-7ae0dceb1250d81d27e358cbc499962e': ('tls://10.8.12.5:45141',),\n",
       " 'ndarray-a0de17639c98fe9b5b41d3c6886d76fe': ('tls://10.8.7.3:34321',),\n",
       " 'ndarray-46f31d62d0649b9a2c98ac1e49d9a144': ('tls://10.8.6.5:34287',)}"
      ]
     },
     "execution_count": 16,
     "metadata": {},
     "output_type": "execute_result"
    }
   ],
   "source": [
    "client.who_has()"
   ]
  },
  {
   "cell_type": "code",
   "execution_count": 59,
   "id": "ad45221b-4dfd-482b-a306-03b44a64a450",
   "metadata": {},
   "outputs": [],
   "source": [
    "cluster.scale(0)"
   ]
  },
  {
   "cell_type": "code",
   "execution_count": 60,
   "id": "e4752da7-1bf1-499c-a3e3-74229972f5b5",
   "metadata": {},
   "outputs": [],
   "source": [
    "cluster.close()"
   ]
  },
  {
   "cell_type": "code",
   "execution_count": 61,
   "id": "24cd0d87-8a34-446a-908d-4578099644d3",
   "metadata": {},
   "outputs": [],
   "source": [
    "cluster.shutdown()"
   ]
  },
  {
   "cell_type": "code",
   "execution_count": 65,
   "id": "d1ae9a21-4cc6-4c4f-9706-c03815b7a834",
   "metadata": {},
   "outputs": [
    {
     "name": "stderr",
     "output_type": "stream",
     "text": [
      "Exception in callback None()\n",
      "handle: <Handle cancelled>\n",
      "Traceback (most recent call last):\n",
      "  File \"/srv/conda/envs/notebook/lib/python3.10/site-packages/tornado/iostream.py\", line 1389, in _do_ssl_handshake\n",
      "    self.socket.do_handshake()\n",
      "  File \"/srv/conda/envs/notebook/lib/python3.10/ssl.py\", line 1342, in do_handshake\n",
      "    self._sslobj.do_handshake()\n",
      "ssl.SSLZeroReturnError: TLS/SSL connection has been closed (EOF) (_ssl.c:997)\n",
      "\n",
      "During handling of the above exception, another exception occurred:\n",
      "\n",
      "Traceback (most recent call last):\n",
      "  File \"/srv/conda/envs/notebook/lib/python3.10/asyncio/events.py\", line 80, in _run\n",
      "    self._context.run(self._callback, *self._args)\n",
      "  File \"/srv/conda/envs/notebook/lib/python3.10/site-packages/tornado/platform/asyncio.py\", line 206, in _handle_events\n",
      "    handler_func(fileobj, events)\n",
      "  File \"/srv/conda/envs/notebook/lib/python3.10/site-packages/tornado/iostream.py\", line 698, in _handle_events\n",
      "    self._handle_read()\n",
      "  File \"/srv/conda/envs/notebook/lib/python3.10/site-packages/tornado/iostream.py\", line 1476, in _handle_read\n",
      "    self._do_ssl_handshake()\n",
      "  File \"/srv/conda/envs/notebook/lib/python3.10/site-packages/tornado/iostream.py\", line 1398, in _do_ssl_handshake\n",
      "    return self.close(exc_info=err)\n",
      "  File \"/srv/conda/envs/notebook/lib/python3.10/site-packages/tornado/iostream.py\", line 613, in close\n",
      "    self._signal_closed()\n",
      "  File \"/srv/conda/envs/notebook/lib/python3.10/site-packages/tornado/iostream.py\", line 643, in _signal_closed\n",
      "    self._ssl_connect_future.exception()\n",
      "asyncio.exceptions.CancelledError\n"
     ]
    }
   ],
   "source": [
    "client.close()"
   ]
  },
  {
   "cell_type": "code",
   "execution_count": null,
   "id": "3da75c3d-721e-489b-ad32-891f87c5467f",
   "metadata": {},
   "outputs": [],
   "source": []
  }
 ],
 "metadata": {
  "kernelspec": {
   "display_name": "Python 3 (ipykernel)",
   "language": "python",
   "name": "python3"
  },
  "language_info": {
   "codemirror_mode": {
    "name": "ipython",
    "version": 3
   },
   "file_extension": ".py",
   "mimetype": "text/x-python",
   "name": "python",
   "nbconvert_exporter": "python",
   "pygments_lexer": "ipython3",
   "version": "3.10.8"
  }
 },
 "nbformat": 4,
 "nbformat_minor": 5
}
