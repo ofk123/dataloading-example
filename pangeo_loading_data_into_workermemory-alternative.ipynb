{
 "cells": [
  {
   "cell_type": "code",
   "execution_count": 1,
   "metadata": {},
   "outputs": [],
   "source": [
    "import xarray as xr\n",
    "import numpy as np\n",
    "from numpy import pi, sin, cos, arccos, clip, deg2rad\n",
    "import numpy.ma as ma\n",
    "from datetime import datetime\n",
    "import dask\n",
    "import time\n",
    "import zarr"
   ]
  },
  {
   "cell_type": "markdown",
   "metadata": {
    "tags": []
   },
   "source": [
    "#### Currently 30 equally structured datasets stored in 30 zarr-stores.\n",
    "##### All dataset has the same length of tabular data,\n",
    "All 30 datasets has 5 columns,  `latitude`, `longitude`, `time`, `mean`, `anomalies`, each with shape = (2105319,), where mean and anomalies is the only value different between the datasets."
   ]
  },
  {
   "cell_type": "code",
   "execution_count": 130,
   "metadata": {},
   "outputs": [],
   "source": [
    "import json\n",
    "import gcsfs\n",
    "\n",
    "with open('pangeo-181919-e7bc5bdaf4d5.json') as f:\n",
    "    token = json.load(f)\n",
    "gcs = gcsfs.GCSFileSystem(token=token)\n",
    "\n",
    "plevel = 4 # Choosing an arbitrary dataset out of the 30\n",
    "dspath='pangeo-argo-eke/global/mean_and_anomalies/with_pressure_coordinate/readable_ws_and_NHarm/mean_and_anomalies_global_ws500_plevel'+str(plevel)+'.zarr'\n",
    "mapper_alt0 = gcs.get_mapper(dspath)"
   ]
  },
  {
   "cell_type": "code",
   "execution_count": 131,
   "metadata": {},
   "outputs": [],
   "source": [
    "d = xr.open_zarr(mapper_alt0, consolidated=True)"
   ]
  },
  {
   "cell_type": "code",
   "execution_count": 129,
   "metadata": {},
   "outputs": [
    {
     "data": {
      "text/plain": [
       "2105319"
      ]
     },
     "execution_count": 129,
     "metadata": {},
     "output_type": "execute_result"
    }
   ],
   "source": [
    "#import fsspec.utils\n",
    "#fsspec.utils.setup_logging(logger_name=\"gcsfs\")\n",
    "z.time[:].size"
   ]
  },
  {
   "cell_type": "markdown",
   "metadata": {},
   "source": [
    "### Storing"
   ]
  },
  {
   "cell_type": "code",
   "execution_count": 285,
   "metadata": {},
   "outputs": [
    {
     "data": {
      "text/plain": [
       "<xarray.backends.zarr.ZarrStore at 0x7fe3b3839460>"
      ]
     },
     "execution_count": 285,
     "metadata": {},
     "output_type": "execute_result"
    }
   ],
   "source": [
    "# Mean and anomalies for pressurelevel is saved to output-path:\n",
    "ds = xr.Dataset(\n",
    "    data_vars = dict(\n",
    "        Mean = ( [\"i\", \"pressure\"], d.Mean.load().values ),\n",
    "        Anomalies = ( [\"i\", \"pressure\"], d.Anomalies.load().values ),\n",
    "    ),\n",
    "    coords=dict(\n",
    "        time = ( [\"i\"], z.time[:] ),\n",
    "        latitude = ( [\"i\"], d.latitude.load().values ),\n",
    "        longitude = ( [\"i\"], d.longitude.load().values ),\n",
    "        pressure = ([\"pressure\"], d.pressure.load().values ),\n",
    "    ),\n",
    "    attrs=dict(\n",
    "        description = 'Estimated mean dynamic height on profile-coordinates, and anomalies by subtracting estimated mean from observations',\n",
    "        pressureindex = d.pressureindex,\n",
    "        number_of_harmonics = d.number_of_harmonics,\n",
    "        window_size = d.window_size,\n",
    "        creation_date = str( datetime.now() )\n",
    "    ),\n",
    ")\n",
    "\n",
    "ds.time.attrs[\"standard_name\"] = 'time'\n",
    "ds.time.attrs[\"units\"] = 'days since 1970-01-01 00:00:00'\n",
    "ds.latitude.attrs[\"standard_name\"] = 'latitude'\n",
    "ds.latitude.attrs[\"units\"] = 'degrees_north'\n",
    "ds.longitude.attrs[\"standard_name\"] = 'longitude'\n",
    "ds.longitude.attrs[\"units\"] = 'degrees_east'\n",
    "ds.pressure.attrs[\"standard_name\"] = 'pressure'\n",
    "ds.pressure.attrs[\"units\"] = 'decibar'\n",
    "ds.Mean.attrs[\"standard_name\"] = 'Estimated mean dynamic height'\n",
    "ds.Mean.attrs[\"units\"] = 'm^2/s^2'\n",
    "ds.Anomalies.attrs[\"standard_name\"] = 'dynamic height anomalies'\n",
    "ds.Anomalies.attrs[\"units\"] = 'm^2/s^2'\n",
    "\n",
    "dsc = ds.chunk()\n",
    "outfile = 'pangeo-argo-eke/chunk_alternatives/global_mean_and_anomalies_plevel'+str(plevel)+'_current_zarr-storing-code.zarr'\n",
    "mapper_alt1 = gcs.get_mapper(outfile)\n",
    "dsc.to_zarr(mapper_alt1, consolidated=True)"
   ]
  },
  {
   "cell_type": "markdown",
   "metadata": {},
   "source": [
    "#### Size of each dataset in megabytes"
   ]
  },
  {
   "cell_type": "code",
   "execution_count": 286,
   "metadata": {},
   "outputs": [
    {
     "data": {
      "text/plain": [
       "84.212768"
      ]
     },
     "execution_count": 286,
     "metadata": {},
     "output_type": "execute_result"
    }
   ],
   "source": [
    "dsc.nbytes/1e6"
   ]
  },
  {
   "cell_type": "markdown",
   "metadata": {
    "jp-MarkdownHeadingCollapsed": true,
    "tags": []
   },
   "source": [
    "### Connect to a dask-cluster and set cluster-options"
   ]
  },
  {
   "cell_type": "code",
   "execution_count": 107,
   "metadata": {},
   "outputs": [
    {
     "data": {
      "text/plain": [
       "[]"
      ]
     },
     "execution_count": 107,
     "metadata": {},
     "output_type": "execute_result"
    }
   ],
   "source": [
    "from dask_gateway import GatewayCluster, Gateway\n",
    "from distributed import Client\n",
    "\n",
    "g = Gateway()\n",
    "g.list_clusters()"
   ]
  },
  {
   "cell_type": "code",
   "execution_count": 108,
   "metadata": {},
   "outputs": [],
   "source": [
    "#cluster = g.connect(g.list_clusters()[0].name)"
   ]
  },
  {
   "cell_type": "code",
   "execution_count": 109,
   "metadata": {},
   "outputs": [],
   "source": [
    "options = g.cluster_options()\n",
    "options.worker_cores = 2; options.worker_memory = 4\n",
    "# Create a cluster with those options\n",
    "cluster = g.new_cluster(options)"
   ]
  },
  {
   "cell_type": "code",
   "execution_count": 110,
   "metadata": {},
   "outputs": [],
   "source": [
    "#g.list_clusters()"
   ]
  },
  {
   "cell_type": "code",
   "execution_count": 111,
   "metadata": {},
   "outputs": [
    {
     "data": {
      "text/html": [
       "<div>\n",
       "    <div style=\"width: 24px; height: 24px; background-color: #e1e1e1; border: 3px solid #9D9D9D; border-radius: 5px; position: absolute;\"> </div>\n",
       "    <div style=\"margin-left: 48px;\">\n",
       "        <h3 style=\"margin-bottom: 0px;\">Client</h3>\n",
       "        <p style=\"color: #9D9D9D; margin-bottom: 0px;\">Client-5fb8b4c0-2c7b-11ee-8156-decc245b3c5b</p>\n",
       "        <table style=\"width: 100%; text-align: left;\">\n",
       "\n",
       "        <tr>\n",
       "        \n",
       "            <td style=\"text-align: left;\"><strong>Connection method:</strong> Cluster object</td>\n",
       "            <td style=\"text-align: left;\"><strong>Cluster type:</strong> dask_gateway.GatewayCluster</td>\n",
       "        \n",
       "        </tr>\n",
       "\n",
       "        \n",
       "            <tr>\n",
       "                <td style=\"text-align: left;\">\n",
       "                    <strong>Dashboard: </strong> <a href=\"/services/dask-gateway/clusters/prod.67fa51d02c424ff390b3f20b65d081af/status\" target=\"_blank\">/services/dask-gateway/clusters/prod.67fa51d02c424ff390b3f20b65d081af/status</a>\n",
       "                </td>\n",
       "                <td style=\"text-align: left;\"></td>\n",
       "            </tr>\n",
       "        \n",
       "\n",
       "        </table>\n",
       "\n",
       "        \n",
       "            <button style=\"margin-bottom: 12px;\" data-commandlinker-command=\"dask:populate-and-launch-layout\" data-commandlinker-args='{\"url\": \"/services/dask-gateway/clusters/prod.67fa51d02c424ff390b3f20b65d081af/status\" }'>\n",
       "                Launch dashboard in JupyterLab\n",
       "            </button>\n",
       "        \n",
       "\n",
       "        \n",
       "            <details>\n",
       "            <summary style=\"margin-bottom: 20px;\"><h3 style=\"display: inline;\">Cluster Info</h3></summary>\n",
       "            <div style='background-color: #f2f2f2; display: inline-block; padding: 10px; border: 1px solid #999999;'>\n",
       "  <h3>GatewayCluster</h3>\n",
       "  <ul>\n",
       "    <li><b>Name: </b>prod.67fa51d02c424ff390b3f20b65d081af\n",
       "    <li><b>Dashboard: </b><a href='/services/dask-gateway/clusters/prod.67fa51d02c424ff390b3f20b65d081af/status' target='_blank'>/services/dask-gateway/clusters/prod.67fa51d02c424ff390b3f20b65d081af/status</a>\n",
       "  </ul>\n",
       "</div>\n",
       "\n",
       "            </details>\n",
       "        \n",
       "\n",
       "    </div>\n",
       "</div>"
      ],
      "text/plain": [
       "<Client: 'tls://10.8.0.5:8786' processes=0 threads=0, memory=0 B>"
      ]
     },
     "execution_count": 111,
     "metadata": {},
     "output_type": "execute_result"
    }
   ],
   "source": [
    "client = Client(cluster)\n",
    "client"
   ]
  },
  {
   "cell_type": "code",
   "execution_count": 112,
   "metadata": {},
   "outputs": [],
   "source": [
    "cluster.scale(1)"
   ]
  },
  {
   "cell_type": "markdown",
   "metadata": {
    "jp-MarkdownHeadingCollapsed": true,
    "tags": []
   },
   "source": [
    "### Loading of data from cloud-storage<br>\n",
    "Want to load 4 columns of data, `latitude`, `longitude`, `time`, `anomalies`, into memory and do a computation. Which is done embarrasingly parallel ( x 1e6  )."
   ]
  },
  {
   "cell_type": "markdown",
   "metadata": {},
   "source": [
    "Loading data only:"
   ]
  },
  {
   "cell_type": "code",
   "execution_count": 287,
   "metadata": {},
   "outputs": [],
   "source": [
    "@dask.delayed\n",
    "def load_chunksauto(mapper):\n",
    "    \"\"\"Load data from zarr-store into worker-memory\"\"\"\n",
    "    \n",
    "    ds = xr.open_zarr(mapper, consolidated=True, chunks='auto') \n",
    "    data0 = ds.Anomalies.sel(pressure=50).load().values\n",
    "    ii = ~xr.apply_ufunc(np.isnan, data0)\n",
    "    data, lat, lon, time = data0[ii], ds.latitude.load().values[ii], ds.longitude.load().values[ii], ds.time.load().values[ii]\n",
    "    \n",
    "    # Calculation using data-, lat-, lon-, and time-arrays\n",
    "    #\n",
    "    #\n",
    "    #\n",
    "    return None"
   ]
  },
  {
   "cell_type": "code",
   "execution_count": 288,
   "metadata": {},
   "outputs": [],
   "source": [
    "@dask.delayed\n",
    "def load_chunksNone(mapper):\n",
    "    \"\"\"Load data from zarr-store into worker-memory\"\"\"\n",
    "    \n",
    "    ds = xr.open_zarr(mapper, consolidated=True, chunks=None) \n",
    "    data0 = ds.Anomalies.sel(pressure=50).values\n",
    "    ii = ~xr.apply_ufunc(np.isnan, data0)\n",
    "    data, lat, lon, time = data0[ii], ds.latitude.values[ii], ds.longitude.values[ii], ds.time.values[ii]\n",
    "    \n",
    "    # Calculation using data-, lat-, lon-, and time-arrays\n",
    "    #\n",
    "    #\n",
    "    #\n",
    "    return None"
   ]
  },
  {
   "cell_type": "code",
   "execution_count": 289,
   "metadata": {},
   "outputs": [],
   "source": [
    "@dask.delayed\n",
    "def zarr_open(mapper):\n",
    "    \"\"\"Load data from zarr-store into worker-memory\"\"\"\n",
    "    \n",
    "    z = zarr.open_consolidated(mapper)\n",
    "    data0 = np.squeeze(z.Anomalies[:])\n",
    "    ii = ~np.isnan(data0)\n",
    "    data, lat, lon, time = data0[ii], z.latitude[:][ii], z.longitude[:][ii], z.time[:][ii]\n",
    "    \n",
    "    # Calculation using data-, lat-, lon-, and time-arrays\n",
    "    #\n",
    "    #\n",
    "    #\n",
    "    return None"
   ]
  },
  {
   "cell_type": "markdown",
   "metadata": {},
   "source": [
    "<br>\n",
    "<br>\n",
    "\n",
    "When using zarr, time-array has datatype float instead of datetime:"
   ]
  },
  {
   "cell_type": "code",
   "execution_count": 300,
   "metadata": {},
   "outputs": [],
   "source": [
    "ds = xr.open_zarr(mapper_alt1, consolidated=True, chunks='auto') \n",
    "data0 = ds.Anomalies.sel(pressure=50).load().values\n",
    "ii = ~xr.apply_ufunc(np.isnan, data0)\n",
    "data, lat, lon, time = data0[ii], ds.latitude.load().values[ii], ds.longitude.load().values[ii], ds.time.load().values[ii]"
   ]
  },
  {
   "cell_type": "code",
   "execution_count": 299,
   "metadata": {},
   "outputs": [],
   "source": [
    "z = zarr.open_consolidated(mapper_alt1)\n",
    "zdata0 = np.squeeze(z.Anomalies[:])\n",
    "zii = ~np.isnan(zdata0)\n",
    "zdata, zlat, zlon, ztime = zdata0[zii], z.latitude[:][zii], z.longitude[:][zii], z.time[:][zii]"
   ]
  },
  {
   "cell_type": "code",
   "execution_count": 301,
   "metadata": {},
   "outputs": [
    {
     "data": {
      "text/plain": [
       "array(['2004-01-06T07:15:02.000002560', '2004-01-21T07:25:17.000006144',\n",
       "       '2004-02-05T07:36:52.000018304', ...,\n",
       "       '2021-11-04T12:43:31.999994624', '2021-11-14T10:28:53.000001280',\n",
       "       '2021-11-24T09:04:17.000014080'], dtype='datetime64[ns]')"
      ]
     },
     "execution_count": 301,
     "metadata": {},
     "output_type": "execute_result"
    }
   ],
   "source": [
    "time"
   ]
  },
  {
   "cell_type": "code",
   "execution_count": 302,
   "metadata": {},
   "outputs": [
    {
     "data": {
      "text/plain": [
       "array([12423.30210648, 12438.30922454, 12453.31726852, ...,\n",
       "       18935.53023148, 18945.43672454, 18955.37797454])"
      ]
     },
     "execution_count": 302,
     "metadata": {},
     "output_type": "execute_result"
    }
   ],
   "source": [
    "ztime"
   ]
  },
  {
   "cell_type": "markdown",
   "metadata": {},
   "source": [
    "<br>\n",
    "<br>\n",
    "<br>"
   ]
  },
  {
   "cell_type": "markdown",
   "metadata": {
    "tags": []
   },
   "source": [
    "### Timing loading of dataset:<br>"
   ]
  },
  {
   "cell_type": "markdown",
   "metadata": {},
   "source": [
    "<br>\n",
    "ds = xr.open_zarr(mapper, consolidated=True, chunks='auto'); ...  "
   ]
  },
  {
   "cell_type": "code",
   "execution_count": 311,
   "metadata": {},
   "outputs": [
    {
     "name": "stdout",
     "output_type": "stream",
     "text": [
      "1.05 s ± 39.5 ms per loop (mean ± std. dev. of 7 runs, 1 loop each)\n"
     ]
    }
   ],
   "source": [
    "%timeit dask.compute( load_chunksauto(mapper_alt1) )[0]"
   ]
  },
  {
   "cell_type": "markdown",
   "metadata": {},
   "source": [
    "<br>\n",
    "ds = xr.open_zarr(mapper, consolidated=True, chunks=None); ..."
   ]
  },
  {
   "cell_type": "code",
   "execution_count": 312,
   "metadata": {},
   "outputs": [
    {
     "name": "stdout",
     "output_type": "stream",
     "text": [
      "1.29 s ± 70.7 ms per loop (mean ± std. dev. of 7 runs, 1 loop each)\n"
     ]
    }
   ],
   "source": [
    "%timeit dask.compute( load_chunksNone(mapper_alt1) )[0]"
   ]
  },
  {
   "cell_type": "markdown",
   "metadata": {},
   "source": [
    "<br>\n",
    "z = zarr.open_consolidated(mapper); ... "
   ]
  },
  {
   "cell_type": "code",
   "execution_count": 313,
   "metadata": {},
   "outputs": [
    {
     "name": "stdout",
     "output_type": "stream",
     "text": [
      "822 ms ± 77.7 ms per loop (mean ± std. dev. of 7 runs, 1 loop each)\n"
     ]
    }
   ],
   "source": [
    "%timeit dask.compute( zarr_open(mapper_alt1) )[0]"
   ]
  },
  {
   "cell_type": "markdown",
   "metadata": {},
   "source": [
    "#### Scaling down and closing cluster"
   ]
  },
  {
   "cell_type": "code",
   "execution_count": 314,
   "metadata": {},
   "outputs": [],
   "source": [
    "cluster.scale(0)"
   ]
  },
  {
   "cell_type": "code",
   "execution_count": 315,
   "metadata": {},
   "outputs": [],
   "source": [
    "cluster.close()"
   ]
  },
  {
   "cell_type": "code",
   "execution_count": 316,
   "metadata": {},
   "outputs": [
    {
     "name": "stderr",
     "output_type": "stream",
     "text": [
      "2023-07-27 14:02:28,338 - distributed.client - ERROR - Failed to reconnect to scheduler after 30.00 seconds, closing client\n"
     ]
    }
   ],
   "source": [
    "cluster.shutdown()"
   ]
  },
  {
   "cell_type": "code",
   "execution_count": null,
   "metadata": {},
   "outputs": [],
   "source": []
  }
 ],
 "metadata": {
  "kernelspec": {
   "display_name": "Python 3 (ipykernel)",
   "language": "python",
   "name": "python3"
  },
  "language_info": {
   "codemirror_mode": {
    "name": "ipython",
    "version": 3
   },
   "file_extension": ".py",
   "mimetype": "text/x-python",
   "name": "python",
   "nbconvert_exporter": "python",
   "pygments_lexer": "ipython3",
   "version": "3.10.8"
  }
 },
 "nbformat": 4,
 "nbformat_minor": 4
}
