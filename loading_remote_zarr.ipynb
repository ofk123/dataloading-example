{
 "cells": [
  {
   "cell_type": "code",
   "execution_count": 1,
   "id": "48cf2acc-353c-46ba-b8b1-92539efeabec",
   "metadata": {},
   "outputs": [],
   "source": [
    "import zarr\n",
    "import xarray as xr\n",
    "import os\n",
    "from config import token_path, bucket_name"
   ]
  },
  {
   "cell_type": "markdown",
   "id": "0f66cb59-1dcf-47b0-8374-fef3b59af35f",
   "metadata": {},
   "source": [
    "# obstore==0.7.1, tested on 26.07.2025, pangeo-notebook:2025.07.09, bumping to zarr==3.1.0, \n",
    "## ObjectStore(GCSStore), "
   ]
  },
  {
   "cell_type": "code",
   "execution_count": 2,
   "id": "9c77f32a-fffb-4ce9-b8b2-6ccb220e2d5e",
   "metadata": {},
   "outputs": [],
   "source": [
    "import obstore\n",
    "from obstore.auth.google import GoogleCredentialProvider\n",
    "from google.oauth2 import service_account\n",
    "from obstore.store import GCSStore, S3Store\n",
    "from zarr.storage import ObjectStore, FsspecStore"
   ]
  },
  {
   "cell_type": "code",
   "execution_count": 3,
   "id": "132152d1-ef24-4f0f-a289-bf5072361eab",
   "metadata": {},
   "outputs": [
    {
     "name": "stdout",
     "output_type": "stream",
     "text": [
      "0.7.1 3.1.0\n"
     ]
    }
   ],
   "source": [
    "print(obstore.__version__, zarr.__version__)"
   ]
  },
  {
   "cell_type": "code",
   "execution_count": 4,
   "id": "7bef6d4c-c041-4426-b447-1b68192816a4",
   "metadata": {},
   "outputs": [],
   "source": [
    "# Load credentials\n",
    "datafile = '/velocity_product/version_0/plevel20.zarr'\n",
    "creds = service_account.Credentials.from_service_account_file(\n",
    "    filename = token_path,\n",
    "    scopes = [\"https://www.googleapis.com/auth/cloud-platform\"]\n",
    ")\n",
    "credential_provider = GoogleCredentialProvider(credentials=creds)\n",
    "store = ObjectStore(\n",
    "    store = GCSStore(\n",
    "        bucket = bucket_name,\n",
    "        prefix = datafile, \n",
    "        credential_provider = credential_provider\n",
    "    ),\n",
    "    read_only=True,\n",
    ")"
   ]
  },
  {
   "cell_type": "code",
   "execution_count": 5,
   "id": "fc805a70-2604-4532-9460-dbb94d4bbdf6",
   "metadata": {},
   "outputs": [],
   "source": [
    "ds = xr.open_zarr(store=store)"
   ]
  },
  {
   "cell_type": "code",
   "execution_count": 6,
   "id": "18f44624-d289-473b-814b-a60f92f80a7d",
   "metadata": {},
   "outputs": [
    {
     "name": "stdout",
     "output_type": "stream",
     "text": [
      "2.61 s ± 178 ms per loop (mean ± std. dev. of 7 runs, 1 loop each)\n"
     ]
    }
   ],
   "source": [
    "%%timeit\n",
    "ds = xr.open_zarr(store=store)"
   ]
  },
  {
   "cell_type": "code",
   "execution_count": 7,
   "id": "edd2bf7c-3891-41f6-a086-4e2f9ab29d1f",
   "metadata": {},
   "outputs": [
    {
     "name": "stdout",
     "output_type": "stream",
     "text": [
      "2.67 s ± 147 ms per loop (mean ± std. dev. of 7 runs, 1 loop each)\n"
     ]
    }
   ],
   "source": [
    "%%timeit\n",
    "ds = xr.open_zarr(store=store, consolidated=True)"
   ]
  },
  {
   "cell_type": "code",
   "execution_count": 8,
   "id": "ba2077cf-2fe7-4e6e-9de3-81507c0e4f53",
   "metadata": {},
   "outputs": [
    {
     "name": "stdout",
     "output_type": "stream",
     "text": [
      "2.18 s ± 636 ms per loop (mean ± std. dev. of 7 runs, 1 loop each)\n"
     ]
    }
   ],
   "source": [
    "%%timeit\n",
    "ds = xr.open_zarr(store=store, consolidated=True, zarr_format=2)"
   ]
  },
  {
   "cell_type": "markdown",
   "id": "00f2e56c-96e0-4299-be59-cb450dd09ad6",
   "metadata": {},
   "source": [
    "# obstore==0.7.1, zarr==3.0.10, (tested on 25.07.2025, pangeo-notebook:2025.07.09)\n",
    "## ObjectStore(GCSStore), "
   ]
  },
  {
   "cell_type": "code",
   "execution_count": 2,
   "id": "5929e440-0c1d-4df8-ab5d-23dabe48e201",
   "metadata": {},
   "outputs": [],
   "source": [
    "import obstore\n",
    "from obstore.auth.google import GoogleCredentialProvider\n",
    "from google.oauth2 import service_account\n",
    "from obstore.store import GCSStore, S3Store\n",
    "from zarr.storage import ObjectStore, FsspecStore"
   ]
  },
  {
   "cell_type": "code",
   "execution_count": 3,
   "id": "a29e92b4-cbcf-4e5d-aa39-7c2fb31faef7",
   "metadata": {},
   "outputs": [],
   "source": [
    "# Load credentials\n",
    "datafile = '/velocity_product/version_0/plevel20.zarr'\n",
    "creds = service_account.Credentials.from_service_account_file(\n",
    "    filename = token_path,\n",
    "    scopes = [\"https://www.googleapis.com/auth/cloud-platform\"]\n",
    ")\n",
    "credential_provider = GoogleCredentialProvider(credentials=creds)\n",
    "store = ObjectStore(\n",
    "    store = GCSStore(\n",
    "        bucket = bucket_name,\n",
    "        prefix = datafile, \n",
    "        credential_provider = credential_provider\n",
    "    ),\n",
    "    read_only=True,\n",
    ")"
   ]
  },
  {
   "cell_type": "code",
   "execution_count": 4,
   "id": "21eb93b5-6905-4ce8-af27-9bb620e9f5a7",
   "metadata": {},
   "outputs": [],
   "source": [
    "ds = xr.open_zarr(store=store)"
   ]
  },
  {
   "cell_type": "code",
   "execution_count": 6,
   "id": "0b12da62-ad54-453f-9c6e-74d4eebcc650",
   "metadata": {},
   "outputs": [
    {
     "name": "stdout",
     "output_type": "stream",
     "text": [
      "2.7 s ± 493 ms per loop (mean ± std. dev. of 7 runs, 1 loop each)\n"
     ]
    }
   ],
   "source": [
    "%%timeit\n",
    "ds = xr.open_zarr(store=store)"
   ]
  },
  {
   "cell_type": "code",
   "execution_count": 7,
   "id": "ded92406-9aa5-4598-9358-7f69a20bdcd2",
   "metadata": {},
   "outputs": [
    {
     "name": "stdout",
     "output_type": "stream",
     "text": [
      "2.69 s ± 548 ms per loop (mean ± std. dev. of 7 runs, 1 loop each)\n"
     ]
    }
   ],
   "source": [
    "%%timeit\n",
    "ds = xr.open_zarr(store=store, consolidated=True)"
   ]
  },
  {
   "cell_type": "code",
   "execution_count": 8,
   "id": "da485620-7eae-49e8-a9ba-46b5eae6622e",
   "metadata": {},
   "outputs": [
    {
     "name": "stdout",
     "output_type": "stream",
     "text": [
      "2.23 s ± 336 ms per loop (mean ± std. dev. of 7 runs, 1 loop each)\n"
     ]
    }
   ],
   "source": [
    "%%timeit\n",
    "ds = xr.open_zarr(store=store, consolidated=True, zarr_format=2)"
   ]
  },
  {
   "cell_type": "markdown",
   "id": "3e472c1e-e7d0-4f8e-b35f-5c817cd7416d",
   "metadata": {},
   "source": [
    "# obstore==0.7.0, zarr==3.0.10, (tested on 23.07.2025, pangeo-notebook:2025.07.09)\n",
    "## ObjectStore(GCSStore), "
   ]
  },
  {
   "cell_type": "code",
   "execution_count": 2,
   "id": "da1a5f6e-f327-48cd-936f-9679de0b25cd",
   "metadata": {},
   "outputs": [
    {
     "data": {
      "text/plain": [
       "'3.0.10'"
      ]
     },
     "execution_count": 2,
     "metadata": {},
     "output_type": "execute_result"
    }
   ],
   "source": [
    "zarr.__version__"
   ]
  },
  {
   "cell_type": "code",
   "execution_count": 3,
   "id": "18a384f3-1d57-481b-ba9d-652fa84ed53b",
   "metadata": {},
   "outputs": [],
   "source": [
    "import obstore\n",
    "from obstore.auth.google import GoogleCredentialProvider\n",
    "from google.oauth2 import service_account\n",
    "from obstore.store import GCSStore, S3Store\n",
    "from zarr.storage import ObjectStore, FsspecStore"
   ]
  },
  {
   "cell_type": "code",
   "execution_count": 4,
   "id": "786cc083-8431-453a-b62a-8258994998f8",
   "metadata": {},
   "outputs": [],
   "source": [
    "# Load credentials\n",
    "datafile = '/velocity_product/version_0/plevel20.zarr'\n",
    "creds = service_account.Credentials.from_service_account_file(\n",
    "    filename = token_path,\n",
    "    scopes = [\"https://www.googleapis.com/auth/cloud-platform\"]\n",
    ")\n",
    "credential_provider = GoogleCredentialProvider(credentials=creds)\n",
    "store = ObjectStore(\n",
    "    store = GCSStore(\n",
    "        bucket = bucket_name,\n",
    "        prefix = datafile, \n",
    "        credential_provider = credential_provider\n",
    "    ),\n",
    "    read_only=True,\n",
    ")"
   ]
  },
  {
   "cell_type": "code",
   "execution_count": 5,
   "id": "af014531-b1dd-4d3c-9a37-482bd9433eb2",
   "metadata": {},
   "outputs": [],
   "source": [
    "ds = xr.open_zarr(store=store)"
   ]
  },
  {
   "cell_type": "code",
   "execution_count": 6,
   "id": "2632c63e-05f6-4875-8941-f5fcdcc21a97",
   "metadata": {},
   "outputs": [
    {
     "name": "stdout",
     "output_type": "stream",
     "text": [
      "2.59 s ± 183 ms per loop (mean ± std. dev. of 7 runs, 1 loop each)\n"
     ]
    }
   ],
   "source": [
    "%%timeit\n",
    "ds = xr.open_zarr(store=store)"
   ]
  },
  {
   "cell_type": "code",
   "execution_count": 7,
   "id": "818c0b21-a62d-4796-814d-44de50a643d5",
   "metadata": {},
   "outputs": [
    {
     "name": "stdout",
     "output_type": "stream",
     "text": [
      "2.51 s ± 522 ms per loop (mean ± std. dev. of 7 runs, 1 loop each)\n"
     ]
    }
   ],
   "source": [
    "%%timeit\n",
    "ds = xr.open_zarr(store=store, consolidated=True)"
   ]
  },
  {
   "cell_type": "code",
   "execution_count": 8,
   "id": "cf7b739c-7528-45b1-9aef-6baef4d69418",
   "metadata": {},
   "outputs": [
    {
     "name": "stdout",
     "output_type": "stream",
     "text": [
      "2.45 s ± 379 ms per loop (mean ± std. dev. of 7 runs, 1 loop each)\n"
     ]
    }
   ],
   "source": [
    "%%timeit\n",
    "ds = xr.open_zarr(store=store, consolidated=True, zarr_format=2)"
   ]
  },
  {
   "cell_type": "markdown",
   "id": "e6b3bd41-51da-447f-9ed6-53871e0b450f",
   "metadata": {},
   "source": [
    "# zarr==3.0.10, (tested on 20.07.2025, pangeo-notebook:2025.07.09)\n",
    "## gcsfs "
   ]
  },
  {
   "cell_type": "code",
   "execution_count": 17,
   "id": "c908ab78-fd27-4e70-afbd-e844938c17e6",
   "metadata": {},
   "outputs": [],
   "source": [
    "import gcsfs\n",
    "import json"
   ]
  },
  {
   "cell_type": "code",
   "execution_count": 29,
   "id": "230e9dc8-d1de-453b-b3b1-5fee938a208d",
   "metadata": {},
   "outputs": [],
   "source": [
    "with open(token_path) as f:\n",
    "    token = json.load(f)\n",
    "gcs = gcsfs.GCSFileSystem(token=token)"
   ]
  },
  {
   "cell_type": "code",
   "execution_count": 30,
   "id": "3195edf0-d24e-4fb9-bc92-e03b911588c3",
   "metadata": {},
   "outputs": [],
   "source": [
    "mapper = gcs.get_mapper(bucket_name+datafile)"
   ]
  },
  {
   "cell_type": "code",
   "execution_count": 31,
   "id": "610ffc03-ca31-4eb9-a3c8-23f9c44ad05b",
   "metadata": {},
   "outputs": [
    {
     "name": "stdout",
     "output_type": "stream",
     "text": [
      "1.55 s ± 17.6 ms per loop (mean ± std. dev. of 7 runs, 1 loop each)\n"
     ]
    }
   ],
   "source": [
    "%%timeit\n",
    "ds = xr.open_zarr(store=mapper)"
   ]
  },
  {
   "cell_type": "code",
   "execution_count": 32,
   "id": "43dcf40f-7057-4e47-b459-ce1f48385176",
   "metadata": {},
   "outputs": [
    {
     "name": "stdout",
     "output_type": "stream",
     "text": [
      "1.53 s ± 13.9 ms per loop (mean ± std. dev. of 7 runs, 1 loop each)\n"
     ]
    }
   ],
   "source": [
    "%%timeit\n",
    "ds = xr.open_zarr(store=mapper, consolidated=True)"
   ]
  },
  {
   "cell_type": "code",
   "execution_count": 33,
   "id": "9c33f0fd-12ee-4648-a1e2-4a4828d20797",
   "metadata": {},
   "outputs": [
    {
     "name": "stdout",
     "output_type": "stream",
     "text": [
      "1.43 s ± 121 ms per loop (mean ± std. dev. of 7 runs, 1 loop each)\n"
     ]
    }
   ],
   "source": [
    "%%timeit\n",
    "ds = xr.open_zarr(store=mapper, consolidated=True, zarr_format=2)"
   ]
  },
  {
   "cell_type": "markdown",
   "id": "eb8f982d-343a-422e-ac66-8278c5f7cf1f",
   "metadata": {},
   "source": [
    "### FsspecStore(fs=gcsgs.GCSFileSystem, ...)"
   ]
  },
  {
   "cell_type": "code",
   "execution_count": 34,
   "id": "a52308e8-149c-4140-8623-5c4bf9406c82",
   "metadata": {},
   "outputs": [
    {
     "name": "stderr",
     "output_type": "stream",
     "text": [
      "/tmp/ipykernel_802/1885813519.py:1: UserWarning: fs (<gcsfs.core.GCSFileSystem object at 0x7e7fdb63bc20>) was not created with `asynchronous=True`, this may lead to surprising behavior\n",
      "  store = FsspecStore(fs=gcs, path=bucket_name+datafile)\n"
     ]
    }
   ],
   "source": [
    "store = FsspecStore(fs=gcs, path=bucket_name+datafile)"
   ]
  },
  {
   "cell_type": "code",
   "execution_count": 35,
   "id": "d89e44c1-0798-411f-b360-a3d8a26a531e",
   "metadata": {},
   "outputs": [],
   "source": [
    "with open(token_path) as f:\n",
    "    token = json.load(f)\n",
    "gcs = gcsfs.GCSFileSystem(token=token, asynchronous=True)\n",
    "store = FsspecStore(fs=gcs, path=bucket_name+datafile)"
   ]
  },
  {
   "cell_type": "code",
   "execution_count": 36,
   "id": "27394c78-f5e9-46f0-8e87-aaef61f79774",
   "metadata": {},
   "outputs": [
    {
     "name": "stdout",
     "output_type": "stream",
     "text": [
      "1.54 s ± 28.5 ms per loop (mean ± std. dev. of 7 runs, 1 loop each)\n"
     ]
    }
   ],
   "source": [
    "%%timeit\n",
    "ds = xr.open_zarr(store=store)"
   ]
  },
  {
   "cell_type": "code",
   "execution_count": 37,
   "id": "16e36891-1b8c-49c0-aae8-a9384caef2be",
   "metadata": {},
   "outputs": [
    {
     "name": "stdout",
     "output_type": "stream",
     "text": [
      "1.59 s ± 127 ms per loop (mean ± std. dev. of 7 runs, 1 loop each)\n"
     ]
    }
   ],
   "source": [
    "%%timeit\n",
    "ds = xr.open_zarr(store=store, consolidated=True)"
   ]
  },
  {
   "cell_type": "code",
   "execution_count": 38,
   "id": "5a2a1216-6765-4fb3-bc80-7e300bc6834f",
   "metadata": {},
   "outputs": [
    {
     "name": "stdout",
     "output_type": "stream",
     "text": [
      "1.41 s ± 70.6 ms per loop (mean ± std. dev. of 7 runs, 1 loop each)\n"
     ]
    }
   ],
   "source": [
    "%%timeit\n",
    "ds = xr.open_zarr(store=store, consolidated=True, zarr_format=2)"
   ]
  },
  {
   "cell_type": "markdown",
   "id": "dd77dcdf-c97b-4b2e-8a5a-a397c70783ff",
   "metadata": {},
   "source": [
    "# zarr==2.18.3, pangeo-notebook:2024.11.11"
   ]
  },
  {
   "cell_type": "code",
   "execution_count": 10,
   "id": "b6243581-2933-4920-958c-dc28a33664ce",
   "metadata": {},
   "outputs": [
    {
     "data": {
      "text/plain": [
       "'2.18.3'"
      ]
     },
     "execution_count": 10,
     "metadata": {},
     "output_type": "execute_result"
    }
   ],
   "source": [
    "import zarr;zarr.__version__"
   ]
  },
  {
   "cell_type": "code",
   "execution_count": 11,
   "id": "a9e81e38-7903-4794-9c6e-beee9dc4870d",
   "metadata": {},
   "outputs": [],
   "source": [
    "import gcsfs\n",
    "import json\n",
    "from config import token_path, bucket_name"
   ]
  },
  {
   "cell_type": "code",
   "execution_count": 12,
   "id": "9cfda30b-f3df-4ca7-862f-81b0172aec57",
   "metadata": {},
   "outputs": [],
   "source": [
    "datafile = '/velocity_product/version_0/plevel20.zarr'\n",
    "with open(token_path) as f:\n",
    "    token = json.load(f)\n",
    "gcs = gcsfs.GCSFileSystem(token=token)\n",
    "mapper = gcs.get_mapper(bucket_name+datafile)"
   ]
  },
  {
   "cell_type": "code",
   "execution_count": 13,
   "id": "126e1e95-d253-4dea-aafc-aa6b222407cd",
   "metadata": {},
   "outputs": [
    {
     "name": "stdout",
     "output_type": "stream",
     "text": [
      "2.52 s ± 293 ms per loop (mean ± std. dev. of 7 runs, 1 loop each)\n"
     ]
    }
   ],
   "source": [
    "%%timeit\n",
    "ds = xr.open_zarr(store=mapper)"
   ]
  },
  {
   "cell_type": "code",
   "execution_count": 15,
   "id": "ea961c14-88de-4745-bbe9-b953c803b425",
   "metadata": {},
   "outputs": [
    {
     "name": "stdout",
     "output_type": "stream",
     "text": [
      "2.08 s ± 649 ms per loop (mean ± std. dev. of 7 runs, 1 loop each)\n"
     ]
    }
   ],
   "source": [
    "%%timeit\n",
    "ds = xr.open_zarr(store=mapper, consolidated=True)"
   ]
  },
  {
   "cell_type": "code",
   "execution_count": 18,
   "id": "3a34ec97-e04b-4ddf-ab71-396c2ff78eb1",
   "metadata": {},
   "outputs": [
    {
     "name": "stdout",
     "output_type": "stream",
     "text": [
      "1.92 s ± 414 ms per loop (mean ± std. dev. of 7 runs, 1 loop each)\n"
     ]
    }
   ],
   "source": [
    "%%timeit\n",
    "ds = xr.open_zarr(store=mapper, consolidated=True, zarr_format=2)"
   ]
  }
 ],
 "metadata": {
  "kernelspec": {
   "display_name": "Python 3 (ipykernel)",
   "language": "python",
   "name": "python3"
  },
  "language_info": {
   "codemirror_mode": {
    "name": "ipython",
    "version": 3
   },
   "file_extension": ".py",
   "mimetype": "text/x-python",
   "name": "python",
   "nbconvert_exporter": "python",
   "pygments_lexer": "ipython3",
   "version": "3.12.11"
  }
 },
 "nbformat": 4,
 "nbformat_minor": 5
}
